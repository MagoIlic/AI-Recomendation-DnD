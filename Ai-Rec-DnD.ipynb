{
 "cells": [
  {
   "cell_type": "markdown",
   "id": "ec760541",
   "metadata": {},
   "source": [
    "# Building a AI Recomendation System for D&D"
   ]
  },
  {
   "cell_type": "markdown",
   "id": "44b782b5",
   "metadata": {},
   "source": [
    "Due to the nature of the available dataset on the internet, so far the data includes the basic 5e core rules and some extra contet. Meaning, no Artificer, some extra races, etc.\n",
    "After analyzing the data I will describe it better bellow."
   ]
  },
  {
   "cell_type": "markdown",
   "id": "bf3242ad",
   "metadata": {},
   "source": [
    "## Import Libraries"
   ]
  },
  {
   "cell_type": "code",
   "execution_count": 48,
   "id": "ff6244ac",
   "metadata": {
    "ExecuteTime": {
     "end_time": "2024-06-13T10:24:34.288813Z",
     "start_time": "2024-06-13T10:24:33.743177Z"
    }
   },
   "outputs": [],
   "source": [
    "import requests\n",
    "import pandas as pd\n",
    "import numpy as np\n",
    "import os\n",
    "import ast\n",
    "import json"
   ]
  },
  {
   "cell_type": "markdown",
   "id": "97db4167",
   "metadata": {},
   "source": [
    "## Fetch data with API"
   ]
  },
  {
   "cell_type": "markdown",
   "id": "adac4083",
   "metadata": {},
   "source": [
    "Open5e has an API that allows to fetch all types of data related to Dungeons and Dragons 5th edition"
   ]
  },
  {
   "cell_type": "code",
   "execution_count": 2,
   "id": "20253daa",
   "metadata": {
    "ExecuteTime": {
     "end_time": "2024-06-13T10:38:41.918034Z",
     "start_time": "2024-06-13T10:38:30.119987Z"
    }
   },
   "outputs": [
    {
     "name": "stdout",
     "output_type": "stream",
     "text": [
      "Data for spells saved to data\\spells.csv\n",
      "Data for spelllist saved to data\\spelllist.csv\n",
      "Data for monsters saved to data\\monsters.csv\n",
      "Data for documents saved to data\\documents.csv\n",
      "Data for backgrounds saved to data\\backgrounds.csv\n",
      "Data for planes saved to data\\planes.csv\n",
      "Data for sections saved to data\\sections.csv\n",
      "Data for feats saved to data\\feats.csv\n",
      "Data for conditions saved to data\\conditions.csv\n",
      "Data for races saved to data\\races.csv\n",
      "Data for classes saved to data\\classes.csv\n",
      "Data for magicitems saved to data\\magicitems.csv\n",
      "Data for weapons saved to data\\weapons.csv\n",
      "Data for armor saved to data\\armor.csv\n",
      "Data fetching and saving complete.\n"
     ]
    }
   ],
   "source": [
    "# Define the API base URL and endpoints\n",
    "api_base_url = \"https://api.open5e.com/v1/\"\n",
    "endpoints = [\n",
    "    \"spells\", \"spelllist\", \"monsters\", \"documents\", \"backgrounds\", \n",
    "    \"planes\", \"sections\", \"feats\", \"conditions\", \"races\", \"classes\", \n",
    "    \"magicitems\", \"weapons\", \"armor\"\n",
    "]\n",
    "\n",
    "# Function to fetch data from the API\n",
    "def fetch_data(endpoint, params=None):\n",
    "    url = f\"{api_base_url}{endpoint}/\"\n",
    "    response = requests.get(url, params=params)\n",
    "    if response.status_code == 200:\n",
    "        data = response.json()\n",
    "        return data['results']  # assuming paginated results\n",
    "    else:\n",
    "        print(f\"Failed to fetch data from {url}\")\n",
    "        return None\n",
    "\n",
    "# Create a directory to save CSV files\n",
    "output_dir = \"data\"\n",
    "os.makedirs(output_dir, exist_ok=True)\n",
    "\n",
    "# Loop through each endpoint, fetch data, and save it to CSV\n",
    "for endpoint in endpoints:\n",
    "    data = fetch_data(endpoint)\n",
    "    if data:\n",
    "        df = pd.DataFrame(data)\n",
    "        # Save DataFrame to CSV file\n",
    "        csv_file = os.path.join(output_dir, f\"{endpoint}.csv\")\n",
    "        df.to_csv(csv_file, index=False)\n",
    "        print(f\"Data for {endpoint} saved to {csv_file}\")\n",
    "    else:\n",
    "        print(f\"No data fetched for {endpoint}\")\n",
    "\n",
    "print(\"Data fetching and saving complete.\")\n"
   ]
  },
  {
   "cell_type": "markdown",
   "id": "56246518",
   "metadata": {},
   "source": [
    "## Lets Understand the Data"
   ]
  },
  {
   "cell_type": "code",
   "execution_count": 3,
   "id": "a3ba733a",
   "metadata": {
    "ExecuteTime": {
     "end_time": "2024-06-13T10:49:38.783468Z",
     "start_time": "2024-06-13T10:49:38.750150Z"
    }
   },
   "outputs": [
    {
     "data": {
      "text/html": [
       "<div>\n",
       "<style scoped>\n",
       "    .dataframe tbody tr th:only-of-type {\n",
       "        vertical-align: middle;\n",
       "    }\n",
       "\n",
       "    .dataframe tbody tr th {\n",
       "        vertical-align: top;\n",
       "    }\n",
       "\n",
       "    .dataframe thead th {\n",
       "        text-align: right;\n",
       "    }\n",
       "</style>\n",
       "<table border=\"1\" class=\"dataframe\">\n",
       "  <thead>\n",
       "    <tr style=\"text-align: right;\">\n",
       "      <th></th>\n",
       "      <th>name</th>\n",
       "      <th>slug</th>\n",
       "      <th>desc</th>\n",
       "      <th>hit_dice</th>\n",
       "      <th>hp_at_1st_level</th>\n",
       "      <th>hp_at_higher_levels</th>\n",
       "      <th>prof_armor</th>\n",
       "      <th>prof_weapons</th>\n",
       "      <th>prof_tools</th>\n",
       "      <th>prof_saving_throws</th>\n",
       "      <th>prof_skills</th>\n",
       "      <th>equipment</th>\n",
       "      <th>table</th>\n",
       "      <th>spellcasting_ability</th>\n",
       "      <th>subtypes_name</th>\n",
       "      <th>archetypes</th>\n",
       "      <th>document__slug</th>\n",
       "      <th>document__title</th>\n",
       "      <th>document__license_url</th>\n",
       "      <th>document__url</th>\n",
       "    </tr>\n",
       "  </thead>\n",
       "  <tbody>\n",
       "    <tr>\n",
       "      <th>0</th>\n",
       "      <td>Barbarian</td>\n",
       "      <td>barbarian</td>\n",
       "      <td>### Rage \\n \\nIn battle, you fight with primal...</td>\n",
       "      <td>1d12</td>\n",
       "      <td>12 + your Constitution modifier</td>\n",
       "      <td>1d12 (or 7) + your Constitution modifier per b...</td>\n",
       "      <td>Light armor, medium armor, shields</td>\n",
       "      <td>Simple weapons, martial weapons</td>\n",
       "      <td>None</td>\n",
       "      <td>Strength, Constitution</td>\n",
       "      <td>Choose two from Animal Handling, Athletics, In...</td>\n",
       "      <td>You start with the following equipment, in add...</td>\n",
       "      <td>| Level  | Proficiency Bonus | Features       ...</td>\n",
       "      <td>NaN</td>\n",
       "      <td>Primal Paths</td>\n",
       "      <td>[{'name': 'Path of the Berserker', 'slug': 'pa...</td>\n",
       "      <td>wotc-srd</td>\n",
       "      <td>5e Core Rules</td>\n",
       "      <td>http://open5e.com/legal</td>\n",
       "      <td>http://dnd.wizards.com/articles/features/syste...</td>\n",
       "    </tr>\n",
       "    <tr>\n",
       "      <th>1</th>\n",
       "      <td>Bard</td>\n",
       "      <td>bard</td>\n",
       "      <td>### Spellcasting \\n \\nYou have learned to unta...</td>\n",
       "      <td>1d8</td>\n",
       "      <td>8 + your Constitution modifier</td>\n",
       "      <td>1d8 (or 5) + your Constitution modifier per ba...</td>\n",
       "      <td>Light armor</td>\n",
       "      <td>Simple weapons, hand crossbows, longswords, ra...</td>\n",
       "      <td>Three musical instruments of your choice</td>\n",
       "      <td>Dexterity, Charisma</td>\n",
       "      <td>Choose any three</td>\n",
       "      <td>You start with the following equipment, in add...</td>\n",
       "      <td>| Level | Proficiency Bonus | Features        ...</td>\n",
       "      <td>Charisma</td>\n",
       "      <td>Bard Colleges</td>\n",
       "      <td>[{'name': 'College of Lore', 'slug': 'college-...</td>\n",
       "      <td>wotc-srd</td>\n",
       "      <td>5e Core Rules</td>\n",
       "      <td>http://open5e.com/legal</td>\n",
       "      <td>http://dnd.wizards.com/articles/features/syste...</td>\n",
       "    </tr>\n",
       "  </tbody>\n",
       "</table>\n",
       "</div>"
      ],
      "text/plain": [
       "        name       slug                                               desc  \\\n",
       "0  Barbarian  barbarian  ### Rage \\n \\nIn battle, you fight with primal...   \n",
       "1       Bard       bard  ### Spellcasting \\n \\nYou have learned to unta...   \n",
       "\n",
       "  hit_dice                  hp_at_1st_level  \\\n",
       "0     1d12  12 + your Constitution modifier   \n",
       "1      1d8   8 + your Constitution modifier   \n",
       "\n",
       "                                 hp_at_higher_levels  \\\n",
       "0  1d12 (or 7) + your Constitution modifier per b...   \n",
       "1  1d8 (or 5) + your Constitution modifier per ba...   \n",
       "\n",
       "                           prof_armor  \\\n",
       "0  Light armor, medium armor, shields   \n",
       "1                         Light armor   \n",
       "\n",
       "                                        prof_weapons  \\\n",
       "0                    Simple weapons, martial weapons   \n",
       "1  Simple weapons, hand crossbows, longswords, ra...   \n",
       "\n",
       "                                 prof_tools      prof_saving_throws  \\\n",
       "0                                      None  Strength, Constitution   \n",
       "1  Three musical instruments of your choice     Dexterity, Charisma   \n",
       "\n",
       "                                         prof_skills  \\\n",
       "0  Choose two from Animal Handling, Athletics, In...   \n",
       "1                                   Choose any three   \n",
       "\n",
       "                                           equipment  \\\n",
       "0  You start with the following equipment, in add...   \n",
       "1  You start with the following equipment, in add...   \n",
       "\n",
       "                                               table spellcasting_ability  \\\n",
       "0  | Level  | Proficiency Bonus | Features       ...                  NaN   \n",
       "1  | Level | Proficiency Bonus | Features        ...             Charisma   \n",
       "\n",
       "   subtypes_name                                         archetypes  \\\n",
       "0   Primal Paths  [{'name': 'Path of the Berserker', 'slug': 'pa...   \n",
       "1  Bard Colleges  [{'name': 'College of Lore', 'slug': 'college-...   \n",
       "\n",
       "  document__slug document__title    document__license_url  \\\n",
       "0       wotc-srd   5e Core Rules  http://open5e.com/legal   \n",
       "1       wotc-srd   5e Core Rules  http://open5e.com/legal   \n",
       "\n",
       "                                       document__url  \n",
       "0  http://dnd.wizards.com/articles/features/syste...  \n",
       "1  http://dnd.wizards.com/articles/features/syste...  "
      ]
     },
     "execution_count": 3,
     "metadata": {},
     "output_type": "execute_result"
    }
   ],
   "source": [
    "#Data from classes\n",
    "DFclasses = pd.read_csv('data/classes.csv')\n",
    "DFclasses.head(2)"
   ]
  },
  {
   "cell_type": "code",
   "execution_count": 4,
   "id": "a21834af",
   "metadata": {
    "ExecuteTime": {
     "end_time": "2024-06-13T10:50:40.427940Z",
     "start_time": "2024-06-13T10:50:40.415671Z"
    }
   },
   "outputs": [
    {
     "data": {
      "text/plain": [
       "Index(['name', 'slug', 'desc', 'hit_dice', 'hp_at_1st_level',\n",
       "       'hp_at_higher_levels', 'prof_armor', 'prof_weapons', 'prof_tools',\n",
       "       'prof_saving_throws', 'prof_skills', 'equipment', 'table',\n",
       "       'spellcasting_ability', 'subtypes_name', 'archetypes', 'document__slug',\n",
       "       'document__title', 'document__license_url', 'document__url'],\n",
       "      dtype='object')"
      ]
     },
     "execution_count": 4,
     "metadata": {},
     "output_type": "execute_result"
    }
   ],
   "source": [
    "DFclasses.columns"
   ]
  },
  {
   "cell_type": "markdown",
   "id": "a1128ad1",
   "metadata": {},
   "source": [
    "From this we can see that some columns are probably not usefull, such as the urls, the slugs and document title. so we will drop them"
   ]
  },
  {
   "cell_type": "code",
   "execution_count": 5,
   "id": "e656d193",
   "metadata": {
    "ExecuteTime": {
     "end_time": "2024-06-13T11:13:05.668664Z",
     "start_time": "2024-06-13T11:13:05.632125Z"
    }
   },
   "outputs": [],
   "source": [
    "DFclasses.drop(['slug','document__slug','document__title', 'document__license_url', 'document__url'],axis=1, inplace=True)"
   ]
  },
  {
   "cell_type": "code",
   "execution_count": 6,
   "id": "fde75de3",
   "metadata": {
    "ExecuteTime": {
     "end_time": "2024-06-13T11:21:16.966148Z",
     "start_time": "2024-06-13T11:21:16.953043Z"
    }
   },
   "outputs": [
    {
     "data": {
      "text/html": [
       "<div>\n",
       "<style scoped>\n",
       "    .dataframe tbody tr th:only-of-type {\n",
       "        vertical-align: middle;\n",
       "    }\n",
       "\n",
       "    .dataframe tbody tr th {\n",
       "        vertical-align: top;\n",
       "    }\n",
       "\n",
       "    .dataframe thead th {\n",
       "        text-align: right;\n",
       "    }\n",
       "</style>\n",
       "<table border=\"1\" class=\"dataframe\">\n",
       "  <thead>\n",
       "    <tr style=\"text-align: right;\">\n",
       "      <th></th>\n",
       "      <th>name</th>\n",
       "      <th>desc</th>\n",
       "      <th>hit_dice</th>\n",
       "      <th>hp_at_1st_level</th>\n",
       "      <th>hp_at_higher_levels</th>\n",
       "      <th>prof_armor</th>\n",
       "      <th>prof_weapons</th>\n",
       "      <th>prof_tools</th>\n",
       "      <th>prof_saving_throws</th>\n",
       "      <th>prof_skills</th>\n",
       "      <th>equipment</th>\n",
       "      <th>table</th>\n",
       "      <th>spellcasting_ability</th>\n",
       "      <th>subtypes_name</th>\n",
       "      <th>archetypes</th>\n",
       "    </tr>\n",
       "  </thead>\n",
       "  <tbody>\n",
       "    <tr>\n",
       "      <th>0</th>\n",
       "      <td>Barbarian</td>\n",
       "      <td>### Rage \\n \\nIn battle, you fight with primal...</td>\n",
       "      <td>1d12</td>\n",
       "      <td>12 + your Constitution modifier</td>\n",
       "      <td>1d12 (or 7) + your Constitution modifier per b...</td>\n",
       "      <td>Light armor, medium armor, shields</td>\n",
       "      <td>Simple weapons, martial weapons</td>\n",
       "      <td>None</td>\n",
       "      <td>Strength, Constitution</td>\n",
       "      <td>Choose two from Animal Handling, Athletics, In...</td>\n",
       "      <td>You start with the following equipment, in add...</td>\n",
       "      <td>| Level  | Proficiency Bonus | Features       ...</td>\n",
       "      <td>NaN</td>\n",
       "      <td>Primal Paths</td>\n",
       "      <td>[{'name': 'Path of the Berserker', 'slug': 'pa...</td>\n",
       "    </tr>\n",
       "  </tbody>\n",
       "</table>\n",
       "</div>"
      ],
      "text/plain": [
       "        name                                               desc hit_dice  \\\n",
       "0  Barbarian  ### Rage \\n \\nIn battle, you fight with primal...     1d12   \n",
       "\n",
       "                   hp_at_1st_level  \\\n",
       "0  12 + your Constitution modifier   \n",
       "\n",
       "                                 hp_at_higher_levels  \\\n",
       "0  1d12 (or 7) + your Constitution modifier per b...   \n",
       "\n",
       "                           prof_armor                     prof_weapons  \\\n",
       "0  Light armor, medium armor, shields  Simple weapons, martial weapons   \n",
       "\n",
       "  prof_tools      prof_saving_throws  \\\n",
       "0       None  Strength, Constitution   \n",
       "\n",
       "                                         prof_skills  \\\n",
       "0  Choose two from Animal Handling, Athletics, In...   \n",
       "\n",
       "                                           equipment  \\\n",
       "0  You start with the following equipment, in add...   \n",
       "\n",
       "                                               table spellcasting_ability  \\\n",
       "0  | Level  | Proficiency Bonus | Features       ...                  NaN   \n",
       "\n",
       "  subtypes_name                                         archetypes  \n",
       "0  Primal Paths  [{'name': 'Path of the Berserker', 'slug': 'pa...  "
      ]
     },
     "execution_count": 6,
     "metadata": {},
     "output_type": "execute_result"
    }
   ],
   "source": [
    "DFclasses.head(1)"
   ]
  },
  {
   "cell_type": "markdown",
   "id": "02ba4bb8",
   "metadata": {},
   "source": [
    "### Rinse and Repeat\n",
    "We will load and clear out useless columns for the dataframes without modifying the original data. If in the process we find problematic data, we shall deal with it. After all of this, we will save the modified data with different names."
   ]
  },
  {
   "cell_type": "code",
   "execution_count": 7,
   "id": "e939c9e9",
   "metadata": {
    "ExecuteTime": {
     "end_time": "2024-06-13T11:23:29.127103Z",
     "start_time": "2024-06-13T11:23:29.083238Z"
    }
   },
   "outputs": [
    {
     "data": {
      "text/html": [
       "<div>\n",
       "<style scoped>\n",
       "    .dataframe tbody tr th:only-of-type {\n",
       "        vertical-align: middle;\n",
       "    }\n",
       "\n",
       "    .dataframe tbody tr th {\n",
       "        vertical-align: top;\n",
       "    }\n",
       "\n",
       "    .dataframe thead th {\n",
       "        text-align: right;\n",
       "    }\n",
       "</style>\n",
       "<table border=\"1\" class=\"dataframe\">\n",
       "  <thead>\n",
       "    <tr style=\"text-align: right;\">\n",
       "      <th></th>\n",
       "      <th>slug</th>\n",
       "      <th>name</th>\n",
       "      <th>desc</th>\n",
       "      <th>higher_level</th>\n",
       "      <th>page</th>\n",
       "      <th>range</th>\n",
       "      <th>target_range_sort</th>\n",
       "      <th>components</th>\n",
       "      <th>requires_verbal_components</th>\n",
       "      <th>requires_somatic_components</th>\n",
       "      <th>...</th>\n",
       "      <th>spell_level</th>\n",
       "      <th>school</th>\n",
       "      <th>dnd_class</th>\n",
       "      <th>spell_lists</th>\n",
       "      <th>archetype</th>\n",
       "      <th>circles</th>\n",
       "      <th>document__slug</th>\n",
       "      <th>document__title</th>\n",
       "      <th>document__license_url</th>\n",
       "      <th>document__url</th>\n",
       "    </tr>\n",
       "  </thead>\n",
       "  <tbody>\n",
       "    <tr>\n",
       "      <th>0</th>\n",
       "      <td>abhorrent-apparition</td>\n",
       "      <td>Abhorrent Apparition</td>\n",
       "      <td>You imbue a terrifying visage onto a gourd and...</td>\n",
       "      <td>If you cast this spell using a spell slot of 5...</td>\n",
       "      <td>NaN</td>\n",
       "      <td>60 feet</td>\n",
       "      <td>60</td>\n",
       "      <td>M</td>\n",
       "      <td>False</td>\n",
       "      <td>False</td>\n",
       "      <td>...</td>\n",
       "      <td>4</td>\n",
       "      <td>illusion</td>\n",
       "      <td>Bard, Sorcerer, Wizard</td>\n",
       "      <td>['bard', 'sorcerer', 'wizard']</td>\n",
       "      <td>NaN</td>\n",
       "      <td>NaN</td>\n",
       "      <td>dmag</td>\n",
       "      <td>Deep Magic 5e</td>\n",
       "      <td>http://open5e.com/legal</td>\n",
       "      <td>https://koboldpress.com/kpstore/product/deep-m...</td>\n",
       "    </tr>\n",
       "    <tr>\n",
       "      <th>1</th>\n",
       "      <td>abrupt-hug</td>\n",
       "      <td>Abrupt Hug</td>\n",
       "      <td>You or the creature taking the Attack action c...</td>\n",
       "      <td>NaN</td>\n",
       "      <td>NaN</td>\n",
       "      <td>30 Feet</td>\n",
       "      <td>30</td>\n",
       "      <td>V</td>\n",
       "      <td>True</td>\n",
       "      <td>False</td>\n",
       "      <td>...</td>\n",
       "      <td>1</td>\n",
       "      <td>transmutation</td>\n",
       "      <td>Ranger</td>\n",
       "      <td>['ranger']</td>\n",
       "      <td>NaN</td>\n",
       "      <td>NaN</td>\n",
       "      <td>warlock</td>\n",
       "      <td>Warlock Archives</td>\n",
       "      <td>http://open5e.com/legal</td>\n",
       "      <td>https://koboldpress.com/kpstore/product-catego...</td>\n",
       "    </tr>\n",
       "  </tbody>\n",
       "</table>\n",
       "<p>2 rows × 30 columns</p>\n",
       "</div>"
      ],
      "text/plain": [
       "                   slug                  name  \\\n",
       "0  abhorrent-apparition  Abhorrent Apparition   \n",
       "1            abrupt-hug            Abrupt Hug   \n",
       "\n",
       "                                                desc  \\\n",
       "0  You imbue a terrifying visage onto a gourd and...   \n",
       "1  You or the creature taking the Attack action c...   \n",
       "\n",
       "                                        higher_level page    range  \\\n",
       "0  If you cast this spell using a spell slot of 5...  NaN  60 feet   \n",
       "1                                                NaN  NaN  30 Feet   \n",
       "\n",
       "   target_range_sort components  requires_verbal_components  \\\n",
       "0                 60          M                       False   \n",
       "1                 30          V                        True   \n",
       "\n",
       "   requires_somatic_components  ...  spell_level         school  \\\n",
       "0                        False  ...            4       illusion   \n",
       "1                        False  ...            1  transmutation   \n",
       "\n",
       "                dnd_class                     spell_lists archetype circles  \\\n",
       "0  Bard, Sorcerer, Wizard  ['bard', 'sorcerer', 'wizard']       NaN     NaN   \n",
       "1                  Ranger                      ['ranger']       NaN     NaN   \n",
       "\n",
       "   document__slug   document__title    document__license_url  \\\n",
       "0            dmag     Deep Magic 5e  http://open5e.com/legal   \n",
       "1         warlock  Warlock Archives  http://open5e.com/legal   \n",
       "\n",
       "                                       document__url  \n",
       "0  https://koboldpress.com/kpstore/product/deep-m...  \n",
       "1  https://koboldpress.com/kpstore/product-catego...  \n",
       "\n",
       "[2 rows x 30 columns]"
      ]
     },
     "execution_count": 7,
     "metadata": {},
     "output_type": "execute_result"
    }
   ],
   "source": [
    "#Data from spells\n",
    "DFspells = pd.read_csv('data/spells.csv')\n",
    "DFspells.head(2)"
   ]
  },
  {
   "cell_type": "code",
   "execution_count": 8,
   "id": "c534abc5",
   "metadata": {
    "ExecuteTime": {
     "end_time": "2024-06-13T11:31:51.443019Z",
     "start_time": "2024-06-13T11:31:51.427817Z"
    }
   },
   "outputs": [],
   "source": [
    "DFspells.drop(['slug','document__slug','document__title', 'document__license_url', 'document__url'],axis=1,inplace=True)"
   ]
  },
  {
   "cell_type": "code",
   "execution_count": 9,
   "id": "940943bc",
   "metadata": {
    "ExecuteTime": {
     "end_time": "2024-06-13T11:32:02.931066Z",
     "start_time": "2024-06-13T11:32:02.909159Z"
    }
   },
   "outputs": [
    {
     "data": {
      "text/html": [
       "<div>\n",
       "<style scoped>\n",
       "    .dataframe tbody tr th:only-of-type {\n",
       "        vertical-align: middle;\n",
       "    }\n",
       "\n",
       "    .dataframe tbody tr th {\n",
       "        vertical-align: top;\n",
       "    }\n",
       "\n",
       "    .dataframe thead th {\n",
       "        text-align: right;\n",
       "    }\n",
       "</style>\n",
       "<table border=\"1\" class=\"dataframe\">\n",
       "  <thead>\n",
       "    <tr style=\"text-align: right;\">\n",
       "      <th></th>\n",
       "      <th>name</th>\n",
       "      <th>desc</th>\n",
       "      <th>higher_level</th>\n",
       "      <th>page</th>\n",
       "      <th>range</th>\n",
       "      <th>target_range_sort</th>\n",
       "      <th>components</th>\n",
       "      <th>requires_verbal_components</th>\n",
       "      <th>requires_somatic_components</th>\n",
       "      <th>requires_material_components</th>\n",
       "      <th>...</th>\n",
       "      <th>requires_concentration</th>\n",
       "      <th>casting_time</th>\n",
       "      <th>level</th>\n",
       "      <th>level_int</th>\n",
       "      <th>spell_level</th>\n",
       "      <th>school</th>\n",
       "      <th>dnd_class</th>\n",
       "      <th>spell_lists</th>\n",
       "      <th>archetype</th>\n",
       "      <th>circles</th>\n",
       "    </tr>\n",
       "  </thead>\n",
       "  <tbody>\n",
       "    <tr>\n",
       "      <th>0</th>\n",
       "      <td>Abhorrent Apparition</td>\n",
       "      <td>You imbue a terrifying visage onto a gourd and...</td>\n",
       "      <td>If you cast this spell using a spell slot of 5...</td>\n",
       "      <td>NaN</td>\n",
       "      <td>60 feet</td>\n",
       "      <td>60</td>\n",
       "      <td>M</td>\n",
       "      <td>False</td>\n",
       "      <td>False</td>\n",
       "      <td>True</td>\n",
       "      <td>...</td>\n",
       "      <td>False</td>\n",
       "      <td>1 action</td>\n",
       "      <td>4th-level</td>\n",
       "      <td>4</td>\n",
       "      <td>4</td>\n",
       "      <td>illusion</td>\n",
       "      <td>Bard, Sorcerer, Wizard</td>\n",
       "      <td>['bard', 'sorcerer', 'wizard']</td>\n",
       "      <td>NaN</td>\n",
       "      <td>NaN</td>\n",
       "    </tr>\n",
       "  </tbody>\n",
       "</table>\n",
       "<p>1 rows × 25 columns</p>\n",
       "</div>"
      ],
      "text/plain": [
       "                   name                                               desc  \\\n",
       "0  Abhorrent Apparition  You imbue a terrifying visage onto a gourd and...   \n",
       "\n",
       "                                        higher_level page    range  \\\n",
       "0  If you cast this spell using a spell slot of 5...  NaN  60 feet   \n",
       "\n",
       "   target_range_sort components  requires_verbal_components  \\\n",
       "0                 60          M                       False   \n",
       "\n",
       "   requires_somatic_components  requires_material_components  ...  \\\n",
       "0                        False                          True  ...   \n",
       "\n",
       "  requires_concentration  casting_time      level level_int spell_level  \\\n",
       "0                  False      1 action  4th-level         4           4   \n",
       "\n",
       "     school               dnd_class                     spell_lists  \\\n",
       "0  illusion  Bard, Sorcerer, Wizard  ['bard', 'sorcerer', 'wizard']   \n",
       "\n",
       "   archetype  circles  \n",
       "0        NaN      NaN  \n",
       "\n",
       "[1 rows x 25 columns]"
      ]
     },
     "execution_count": 9,
     "metadata": {},
     "output_type": "execute_result"
    }
   ],
   "source": [
    "DFspells.head(1)"
   ]
  },
  {
   "cell_type": "markdown",
   "id": "8c99625d",
   "metadata": {},
   "source": [
    "A pattern may have emerged, some columns have repeated so we will check if those columns appear in all of the dataframes, if so. We will create a loop to drop them all. "
   ]
  },
  {
   "cell_type": "code",
   "execution_count": 10,
   "id": "99d8d3f9",
   "metadata": {
    "ExecuteTime": {
     "end_time": "2024-06-13T11:41:39.678443Z",
     "start_time": "2024-06-13T11:41:39.523509Z"
    }
   },
   "outputs": [],
   "source": [
    "#Loading all remaning dataframes\n",
    "DFspelllist = pd.read_csv('data/spelllist.csv')\n",
    "DFmonsters = pd.read_csv('data/monsters.csv')\n",
    "DFdocuments = pd.read_csv('data/documents.csv')\n",
    "DFbackgrounds = pd.read_csv('data/backgrounds.csv')\n",
    "DFplanes = pd.read_csv('data/planes.csv')\n",
    "DFsections = pd.read_csv('data/sections.csv')\n",
    "DFfeats = pd.read_csv('data/feats.csv')\n",
    "DFconditions = pd.read_csv('data/conditions.csv')\n",
    "DFraces = pd.read_csv('data/races.csv')\n",
    "DFmagicitems = pd.read_csv('data/magicitems.csv')\n",
    "DFweapons = pd.read_csv('data/weapons.csv')\n",
    "DFarmor = pd.read_csv('data/armor.csv')"
   ]
  },
  {
   "cell_type": "code",
   "execution_count": 11,
   "id": "5f8b876b",
   "metadata": {
    "ExecuteTime": {
     "end_time": "2024-06-13T11:44:32.130338Z",
     "start_time": "2024-06-13T11:44:32.111062Z"
    }
   },
   "outputs": [
    {
     "name": "stdout",
     "output_type": "stream",
     "text": [
      "Index(['slug', 'name', 'desc', 'spells', 'document__slug', 'document__title',\n",
      "       'document__license_url', 'document__url'],\n",
      "      dtype='object')\n",
      "Index(['slug', 'desc', 'name', 'size', 'type', 'subtype', 'group', 'alignment',\n",
      "       'armor_class', 'armor_desc', 'hit_points', 'hit_dice', 'speed',\n",
      "       'strength', 'dexterity', 'constitution', 'intelligence', 'wisdom',\n",
      "       'charisma', 'strength_save', 'dexterity_save', 'constitution_save',\n",
      "       'intelligence_save', 'wisdom_save', 'charisma_save', 'perception',\n",
      "       'skills', 'damage_vulnerabilities', 'damage_resistances',\n",
      "       'damage_immunities', 'condition_immunities', 'senses', 'languages',\n",
      "       'challenge_rating', 'cr', 'actions', 'bonus_actions', 'reactions',\n",
      "       'legendary_desc', 'legendary_actions', 'special_abilities',\n",
      "       'spell_list', 'page_no', 'environments', 'img_main', 'document__slug',\n",
      "       'document__title', 'document__license_url', 'document__url'],\n",
      "      dtype='object')\n",
      "Index(['title', 'slug', 'url', 'license', 'desc', 'author', 'organization',\n",
      "       'version', 'created_at', 'copyright', 'license_url'],\n",
      "      dtype='object')\n",
      "Index(['name', 'desc', 'slug', 'skill_proficiencies', 'tool_proficiencies',\n",
      "       'languages', 'equipment', 'feature', 'feature_desc',\n",
      "       'suggested_characteristics', 'document__slug', 'document__title',\n",
      "       'document__license_url', 'document__url'],\n",
      "      dtype='object')\n",
      "Index(['slug', 'name', 'desc', 'document__slug', 'document__title',\n",
      "       'document__url', 'parent'],\n",
      "      dtype='object')\n",
      "Index(['slug', 'name', 'desc', 'document__slug', 'document__title',\n",
      "       'document__license_url', 'document__url', 'parent'],\n",
      "      dtype='object')\n",
      "Index(['slug', 'name', 'desc', 'prerequisite', 'effects_desc',\n",
      "       'document__slug', 'document__title', 'document__url'],\n",
      "      dtype='object')\n",
      "Index(['slug', 'name', 'desc', 'document__slug', 'document__title',\n",
      "       'document__url'],\n",
      "      dtype='object')\n",
      "Index(['name', 'slug', 'desc', 'asi_desc', 'asi', 'age', 'alignment', 'size',\n",
      "       'size_raw', 'speed', 'speed_desc', 'languages', 'vision', 'traits',\n",
      "       'subraces', 'document__slug', 'document__title',\n",
      "       'document__license_url', 'document__url'],\n",
      "      dtype='object')\n",
      "Index(['slug', 'name', 'type', 'desc', 'rarity', 'requires_attunement',\n",
      "       'document__slug', 'document__title', 'document__url'],\n",
      "      dtype='object')\n",
      "Index(['name', 'slug', 'category', 'document__slug', 'document__title',\n",
      "       'document__license_url', 'document__url', 'cost', 'damage_dice',\n",
      "       'damage_type', 'weight', 'properties'],\n",
      "      dtype='object')\n",
      "Index(['name', 'slug', 'category', 'document__slug', 'document__title',\n",
      "       'document__license_url', 'document__url', 'base_ac', 'plus_dex_mod',\n",
      "       'plus_con_mod', 'plus_wis_mod', 'plus_flat_mod', 'plus_max',\n",
      "       'ac_string', 'strength_requirement', 'cost', 'weight',\n",
      "       'stealth_disadvantage'],\n",
      "      dtype='object')\n"
     ]
    }
   ],
   "source": [
    "print(DFspelllist.columns)\n",
    "print(DFmonsters.columns)\n",
    "print(DFdocuments.columns)\n",
    "print(DFbackgrounds.columns)\n",
    "print(DFplanes.columns)\n",
    "print(DFsections.columns)\n",
    "print(DFfeats.columns)\n",
    "print(DFconditions.columns)\n",
    "print(DFraces.columns)\n",
    "print(DFmagicitems.columns)\n",
    "print(DFweapons.columns)\n",
    "print(DFarmor.columns)"
   ]
  },
  {
   "cell_type": "markdown",
   "id": "54f9d5b0",
   "metadata": {},
   "source": [
    "From the information above we can confirm our hypothesis and continue to delete those columns, we can also asume that the DFdocuments is going to be fairle useless for DMs so we will not cosider it in the future."
   ]
  },
  {
   "cell_type": "code",
   "execution_count": 12,
   "id": "9cd1d46b",
   "metadata": {
    "ExecuteTime": {
     "end_time": "2024-06-13T11:55:51.642050Z",
     "start_time": "2024-06-13T11:55:51.627787Z"
    }
   },
   "outputs": [],
   "source": [
    "# List of dataframes\n",
    "dfs = [DFarmor,DFbackgrounds,DFconditions,DFfeats,DFmagicitems,\n",
    "       DFmonsters,DFplanes,DFraces,DFsections,DFspelllist,DFweapons]\n",
    "\n",
    "# Common columns to delete\n",
    "common_columns = ['slug','document__slug','document__title', 'document__license_url', 'document__url']\n",
    "\n",
    "# Loop through each dataframe\n",
    "for df in dfs:\n",
    "    # Delete common columns from the dataframe\n",
    "    df.drop(columns=common_columns, axis=1, inplace=True, errors='ignore')\n"
   ]
  },
  {
   "cell_type": "code",
   "execution_count": 27,
   "id": "d3f5975d",
   "metadata": {
    "ExecuteTime": {
     "end_time": "2024-06-13T12:05:34.500827Z",
     "start_time": "2024-06-13T12:05:34.491633Z"
    }
   },
   "outputs": [
    {
     "data": {
      "text/plain": [
       "Index(['name', 'desc', 'hit_dice', 'hp_at_1st_level', 'hp_at_higher_levels',\n",
       "       'prof_armor', 'prof_weapons', 'prof_tools', 'prof_saving_throws',\n",
       "       'prof_skills', 'equipment', 'table', 'spellcasting_ability',\n",
       "       'subtypes_name', 'archetypes'],\n",
       "      dtype='object')"
      ]
     },
     "execution_count": 27,
     "metadata": {},
     "output_type": "execute_result"
    }
   ],
   "source": [
    "#Iterate through the dfs list to check that everything is all right.\n",
    "#But first we expand the list to contain all the dfs and sort it so its alphabetiaclly ordered\n",
    "dfs = [DFarmor,DFbackgrounds,DFclasses,DFconditions,DFfeats,DFmagicitems,\n",
    "       DFmonsters,DFplanes,DFraces,DFsections,DFspelllist,DFspells,DFweapons]\n",
    "dfs[2].columns"
   ]
  },
  {
   "cell_type": "markdown",
   "id": "d556fa42",
   "metadata": {},
   "source": [
    "## What the hell is actually in this data?"
   ]
  },
  {
   "cell_type": "markdown",
   "id": "996e3d48",
   "metadata": {},
   "source": [
    "Lets see which classes are available and their sub classes."
   ]
  },
  {
   "cell_type": "code",
   "execution_count": 30,
   "id": "078f0666",
   "metadata": {},
   "outputs": [
    {
     "data": {
      "text/plain": [
       "0     Barbarian\n",
       "1          Bard\n",
       "2        Cleric\n",
       "3         Druid\n",
       "4       Fighter\n",
       "5          Monk\n",
       "6       Paladin\n",
       "7        Ranger\n",
       "8         Rogue\n",
       "9      Sorcerer\n",
       "10      Warlock\n",
       "11       Wizard\n",
       "Name: name, dtype: object"
      ]
     },
     "execution_count": 30,
     "metadata": {},
     "output_type": "execute_result"
    }
   ],
   "source": [
    "DFclasses.name"
   ]
  },
  {
   "cell_type": "markdown",
   "id": "944f77ae",
   "metadata": {},
   "source": [
    "So all the oficial classes except for the artificer. How about subclasses?"
   ]
  },
  {
   "cell_type": "code",
   "execution_count": 42,
   "id": "25bea569",
   "metadata": {},
   "outputs": [
    {
     "data": {
      "text/plain": [
       "'[{\\'name\\': \\'Path of the Berserker\\', \\'slug\\': \\'path-of-the-berserker\\', \\'desc\\': \"For some barbarians, rage is a means to an end- that end being violence. The Path of the Berserker is a path of untrammeled fury, slick with blood. As you enter the berserker\\'s rage, you thrill in the chaos of battle, heedless of your own health or well-being. \\\\n \\\\n##### Frenzy \\\\n \\\\nStarting when you choose this path at 3rd level, you can go into a frenzy when you rage. If you do so, for the duration of your rage you can make a single melee weapon attack as a bonus action on each of your turns after this one. When your rage ends, you suffer one level of exhaustion (as described in appendix A). \\\\n \\\\n##### Mindless Rage \\\\n \\\\nBeginning at 6th level, you can\\'t be charmed or frightened while raging. If you are charmed or frightened when you enter your rage, the effect is suspended for the duration of the rage. \\\\n \\\\n##### Intimidating Presence \\\\n \\\\nBeginning at 10th level, you can use your action to frighten someone with your menacing presence. When you do so, choose one creature that you can see within 30 feet of you. If the creature can see or hear you, it must succeed on a Wisdom saving throw (DC equal to 8 + your proficiency bonus + your Charisma modifier) or be frightened of you until the end of your next turn. On subsequent turns, you can use your action to extend the duration of this effect on the frightened creature until the end of your next turn. This effect ends if the creature ends its turn out of line of sight or more than 60 feet away from you. \\\\n \\\\nIf the creature succeeds on its saving throw, you can\\'t use this feature on that creature again for 24 hours. \\\\n \\\\n##### Retaliation \\\\n \\\\nStarting at 14th level, when you take damage from a creature that is within 5 feet of you, you can use your reaction to make a melee weapon attack against that creature.\", \\'document__slug\\': \\'wotc-srd\\', \\'document__title\\': \\'5e Core Rules\\', \\'document__license_url\\': \\'http://open5e.com/legal\\', \\'document__url\\': \\'http://dnd.wizards.com/articles/features/systems-reference-document-srd\\'}, {\\'name\\': \\'Path of the Juggernaut\\', \\'slug\\': \\'path-of-the-juggernaut\\', \\'desc\\': \\'Honed to assault the lairs of powerful threats to their way of life, or defend against armed hordes of snarling goblinoids, the juggernauts represent the finest of frontline destroyers within the primal lands and beyond.\\\\n\\\\n##### Thunderous Blows\\\\nStarting when you choose this path at 3rd level, your rage instills you with the strength to batter around your foes, making any battlefield your domain. Once per turn while raging, when you damage a creature with a melee attack, you can force the target to make a Strength saving throw (DC 8 + your proficiency bonus + your Strength modifier). On a failure, you push the target 5 feet away from you, and you can choose to immediately move 5 feet into the target’s previous position. ##### Stance of the Mountain\\\\nYou harness your fury to anchor your feet to the earth, shrugging off the blows of those who wish to topple you. Upon choosing this path at 3rd level, you cannot be knocked prone while raging unless you become unconscious.\\\\n\\\\n##### Demolishing Might\\\\nBeginning at 6th level, you can muster destructive force with your assault, shaking the core of even the strongest structures. All of your melee attacks gain the siege property (your attacks deal double damage to objects and structures). Your melee attacks against creatures of the construct type deal an additional 1d8 weapon damage.\\\\n\\\\n##### Overwhelming Cleave\\\\nUpon reaching 10th level, you wade into armies of foes, great swings of your weapon striking many who threaten you. When you make a weapon attack while raging, you can make another attack as a bonus action with the same weapon against a different creature that is within 5 feet of the original target and within range of your weapon.\\\\n\\\\n##### Unstoppable\\\\nStarting at 14th level, you can become “unstoppable” when you rage. If you do so, for the duration of the rage your speed cannot be reduced, and you are immune to the frightened, paralyzed, and stunned conditions. If you are frightened, paralyzed, or stunned, you can still take your bonus action to enter your rage and suspend the effects for the duration of the rage. When your rage ends, you suffer one level of exhaustion (as described in appendix A, PHB).\\', \\'document__slug\\': \\'taldorei\\', \\'document__title\\': \\'Critical Role: Tal’Dorei Campaign Setting\\', \\'document__license_url\\': \\'http://open5e.com/legal\\', \\'document__url\\': \\'https://https://greenronin.com/blog/2017/09/25/ronin-round-table-integrating-wizards-5e-adventures-with-the-taldorei-campaign-setting/\\'}, {\\'name\\': \\'Path of Booming Magnificence\\', \\'slug\\': \\'path-of-booming-magnificence\\', \\'desc\\': \"Barbarians who walk the Path of Booming Magnificence strive to be as lions among their people: symbols of vitality, majesty, and courage. They serve at the vanguard, leading their allies at each charge and drawing their opponents\\' attention away from more vulnerable members of their group. As they grow more experienced, members of this path often take on roles as leaders or in other integral positions.\\\\n\\\\n##### Roar of Defiance\\\\nBeginning at 3rd level, you can announce your presence by unleashing a thunderous roar as part of the bonus action you take to enter your rage. Until the beginning of your next turn, each creature of your choice within 30 feet of you that can hear you has disadvantage on any attack roll that doesn\\'t target you.\\\\n  Until the rage ends, if a creature within 5 feet of you that heard your Roar of Defiance deals damage to you, you can use your reaction to bellow at them. Your attacker must succeed on a Constitution saving throw or take 1d6 thunder damage. The DC is equal to 8 + your proficiency bonus + your Charisma modifier. The damage you deal with this feature increases to 2d6 at 10th level. Once a creature takes damage from this feature, you can\\'t use this feature on that creature again during this rage.\\\\n\\\\n##### Running Leap\\\\nAt 3rd level, while you are raging, you can leap further. When you make a standing long jump, you can leap a number of feet equal to your Strength score. With a 10-foot running start, you can long jump a number of feet equal to twice your Strength score.\\\\n\\\\n##### Lion\\'s Glory\\\\nStarting at 6th level, when you enter your rage, you can choose a number of allies that can see you equal to your Charisma modifier (minimum 1). Until the rage ends, when a chosen ally makes a melee weapon attack, the ally gains a bonus to the damage roll equal to the Rage Damage bonus you gain, as shown in the Rage Damage column of the Barbarian table. Once used, you can\\'t use this feature again until you finish a long rest.\\\\n\\\\n##### Resonant Bellow\\\\nAt 10th level, your roars can pierce the fog of fear. As a bonus action, you can unleash a mighty roar, ending the frightened condition on yourself and each creature of your choice within 60 feet of you and who can hear you. Each creature that ceases to be frightened gains 1d12 + your Charisma modifier (minimum +1) temporary hit points for 1 hour. Once used, you can\\'t use this feature again until you finish a short or long rest.\\\\n\\\\n##### Victorious Roar\\\\nAt 14th level, you exult in your victories. When you hit with at least two attacks on the same turn, you can use a bonus action to unleash a victorious roar. One creature you can see within 30 feet of you must make a Wisdom saving throw with a DC equal to 8 + your proficiency bonus + your Charisma modifier. On a failure, the creature takes psychic damage equal to your barbarian level and is frightened until the end of its next turn. On a success, it takes half the damage and isn\\'t frightened.\", \\'document__slug\\': \\'toh\\', \\'document__title\\': \\'Tome of Heroes\\', \\'document__license_url\\': \\'http://open5e.com/legal\\', \\'document__url\\': \\'https://koboldpress.com/kpstore/product/tome-of-heroes-for-5th-edition/\\'}, {\\'name\\': \\'Path of Hellfire\\', \\'slug\\': \\'path-of-hellfire\\', \\'desc\\': \"Devils have long been known to grant power to mortals as part of a pact or bargain. While this may take the form of unique magic or boons, those who follow the Path of Hellfire are gifted with command over the fires of the Lower Planes, which they channel for short periods to become powerful and furious fighting machines.\\\\n  While some of these barbarians are enlisted to support the devils\\' interests as soldiers or enforcers, some escape their devilish fates, while others still are released after their term of service.\\\\n\\\\n#####Hellish Aspect\\\\nBeginning at 3rd level, when you enter your rage, you take on minor fiendish aspects. The way these aspects manifest is up to you and can include sprouting horns from your head, changing the color of your skin, growing fangs or a tail, or other small physical changes. Though infused with fiendish power, you aren\\'t a fiend. While raging, you have resistance to fire damage, and the first creature you hit on each of your turns with a weapon attack takes 1d6 extra fire damage. This damage increases to 2d6 at 10th level.\\\\n\\\\n#####Hell\\'s Vengeance\\\\nAt 6th level, you can use your hellfire to punish enemies. If an ally you can see within 60 feet of you takes damage while you are raging, you can use your reaction to surround the attacker with hellfire, dealing fire damage equal to your proficiency bonus to it.\\\\n\\\\n#####Hellfire Shield\\\\nStarting at 10th level, when you enter your rage, you can surround yourself with flames. This effect works like the fire shield spell, except you are surrounded with a warm shield only and it ends when your rage ends. Once used, you can\\'t use this feature again until you finish a short or long rest.\\\\n\\\\n#####Devilish Essence\\\\nAt 14th level, while raging, you have advantage on saving throws against spells and other magical effects, and if you take damage from a spell, you can use your reaction to gain temporary hit points equal to your barbarian level.\", \\'document__slug\\': \\'toh\\', \\'document__title\\': \\'Tome of Heroes\\', \\'document__license_url\\': \\'http://open5e.com/legal\\', \\'document__url\\': \\'https://koboldpress.com/kpstore/product/tome-of-heroes-for-5th-edition/\\'}, {\\'name\\': \\'Path of Mistwood\\', \\'slug\\': \\'path-of-mistwood\\', \\'desc\\': \"The first barbarians that traveled the path of mistwood were elves who expanded upon their natural gifts to become masters of the forests. Over time, members of other races who saw the need to protect and cherish the green places of the world joined and learned from them. Often these warriors haunt the woods alone, only seen when called to action by something that would despoil their home.\\\\n\\\\n##### Bonus Proficiency\\\\nAt 3rd level, you gain proficiency in the Stealth skill. If you are already proficient in Stealth, you gain proficiency in another barbarian class skill of your choice.\\\\n\\\\n##### Mistwood Defender\\\\nStarting at 3rd level, you can use the Reckless Attack feature on ranged weapon attacks with thrown weapons, and, while you aren\\'t within melee range of a hostile creature that isn\\'t incapacitated, you can draw and throw a thrown weapon as a bonus action.\\\\n  In addition, when you make a ranged weapon attack with a thrown weapon using Strength while raging, you can add your Rage Damage bonus to the damage you deal with the thrown weapon.\\\\n\\\\n##### From the Mist\\\\nBeginning at 6th level, mist and fog don\\'t hinder your vision. In addition, you can cast the misty step spell, and you can make one attack with a thrown weapon as part of the same bonus action immediately before or immediately after you cast the spell. You can cast this spell while raging. You can use this feature a number of times equal to your proficiency bonus, and you regain all expended uses when you finish a long rest.\\\\n\\\\n##### Mist Dance\\\\nStarting at 10th level, when you use the Attack action while raging, you can make one attack against each creature within 5 feet of you in place of one of your attacks. You can use this feature a number of times equal to your proficiency bonus, and you regain all expended uses when you finish a long rest.\\\\n\\\\n##### War Band\\'s Passage\\\\nStarting at 14th level, when you use your From the Mist feature to cast misty step, you can bring up to two willing creatures within 5 feet of you along with you, as long as each creature isn\\'t carrying more than its carrying capacity. Attacks against you and any creatures you bring with you have disadvantage until the start of your next turn.\", \\'document__slug\\': \\'toh\\', \\'document__title\\': \\'Tome of Heroes\\', \\'document__license_url\\': \\'http://open5e.com/legal\\', \\'document__url\\': \\'https://koboldpress.com/kpstore/product/tome-of-heroes-for-5th-edition/\\'}, {\\'name\\': \\'Path of the Dragon\\', \\'slug\\': \\'path-of-the-dragon\\', \\'desc\\': \"Few creatures embody the power and majesty of dragons. By walking the path of the dragon, you don\\'t solely aspire to emulate these creatures—you seek to become one. The barbarians who follow this path often do so after surviving a dragon encounter or are raised in a culture that worships them. Dragons tend to have a mixed view of the barbarians who choose this path. Some dragons, in particular the metallic dragons, view such a transformation as a flattering act of admiration. Others may recognize or even fully embrace them as useful to their own ambitions. Still others view this path as embarrassing at best and insulting at worst, for what puny, two-legged creature can ever hope to come close to the natural ferocity of a dragon? When choosing this path, consider what experiences drove you to such a course. These experiences will help inform how you deal with the judgment of dragons you encounter in the world.\\\\n\\\\n##### Totem Dragon\\\\nStarting when you choose this path at 3rd level, you choose which type of dragon you seek to emulate. You can speak and read Draconic, and you are resistant to the damage type of your chosen dragon.\\\\n\\\\n| Dragon | Damage Type | \\\\n|---------------------|-------------| \\\\n| Black or Copper | Acid | \\\\n| Blue or Bronze | Lightning | \\\\n| Brass, Gold, or Red | Fire | \\\\n| Green | Poison | \\\\n| Silver or White | Cold |\\\\n\\\\n##### Wyrm Teeth\\\\nAt 3rd level, your jaws extend and become dragon-like when you enter your rage. While raging, you can use a bonus action to make a melee attack with your bite against one creature you can see within 5 feet of you. You are proficient with the bite. When you hit with it, your bite deals piercing damage equal to 1d8 + your Strength modifier + damage of the type associated with your totem dragon equal to your proficiency bonus.\\\\n\\\\n##### Legendary Might\\\\nStarting at 6th level, if you fail a saving throw, you can choose to succeed instead. Once you use this feature, you can\\'t use it again until you finish a long rest. When you reach 14th level in this class, you can use this feature twice between long rests.\\\\n\\\\n##### Aspect of the Dragon\\\\nAt 10th level, you take on additional draconic features while raging. When you enter your rage, choose one of the following aspects to manifest.\\\\n\\\\n***Dragon Heart.*** You gain temporary hit points equal to 1d12 + your barbarian level. Once you manifest this aspect, you must finish a short or long rest before you can manifest it again.\\\\n\\\\n***Dragon Hide.*** Scales sprout across your skin. Your Armor Class increases by 2.\\\\n\\\\n***Dragon Sight.*** Your senses become those of a dragon. You have blindsight out to a range of 60 feet.\\\\n\\\\n***Dragon Wings.*** You sprout a pair of wings that resemble those of your totem dragon. While the wings are present, you have a flying speed of 30 feet. You can\\'t manifest your wings while wearing armor unless it is made to accommodate them, and clothing not made to accommodate your wings might be destroyed when you manifest them.\\\\n\\\\n##### Wyrm Lungs\\\\nAt 14th level, while raging, you can use an action to make a breath weapon attack. You exhale your breath in a 60-foot cone. Each creature in the area must make a Dexterity saving throw (DC equal to 8 + your proficiency bonus + your Constitution modifier), taking 12d8 damage of the type associated with your totem dragon on a failed save, or half as much damage on a successful one. Once you use this feature, you can\\'t use it again until you finish a long rest.\", \\'document__slug\\': \\'toh\\', \\'document__title\\': \\'Tome of Heroes\\', \\'document__license_url\\': \\'http://open5e.com/legal\\', \\'document__url\\': \\'https://koboldpress.com/kpstore/product/tome-of-heroes-for-5th-edition/\\'}, {\\'name\\': \\'Path of the Herald\\', \\'slug\\': \\'path-of-the-herald\\', \\'desc\\': \"In northern lands, the savage warriors charge into battle behind chanting warrior-poets. These wise men and women collect the histories, traditions, and accumulated knowledge of the people to preserve and pass on. Barbarians who follow the Path of the Herald lead their people into battle, chanting the tribe\\'s sagas and spurring them on to new victories while honoring the glory of the past.\\\\n\\\\n##### Oral Tradition\\\\nWhen you adopt this path at 3rd level, you gain proficiency in History and Performance. If you already have proficiency in one of these skills, your proficiency bonus is doubled for ability checks you make using that skill.\\\\n\\\\n##### Battle Fervor\\\\nStarting when you choose this path at 3rd level, when you enter a rage, you can expend one additional daily use of rage to allow a number of willing creatures equal to half your proficiency bonus (minimum of 1) within 30 feet of you to enter a rage as well. A target must be able to see and hear you to enter this rage. Each target gains the benefits and restrictions of the barbarian Rage class feature. In addition, the rage ends early on a target if it can no longer see or hear you.\\\\n\\\\n##### Lorekeeper\\\\nAs a historian, you know how much impact the past has on the present. At 6th level, you can enter a trance and explore your people\\'s sagas to cast the augury, comprehend languages, or identify spell, but only as a ritual. After you cast a spell in this way, you can\\'t use this feature again until you finish a short or long rest.\\\\n\\\\n##### Bolstering Chant\\\\nAt 10th level, when you end your rage as a bonus action, you regain a number of hit points equal to your barbarian level *x* 3. Alternatively, if you end your rage and other creatures are also raging due to your Battle Fervor feature, you and each creature affected by your Battle Fervor regains a number of hit points equal to your barbarian level + your Charisma modifier.\\\\n\\\\n##### Thunderous Oratory\\\\nAt 14th level, while you are raging, your attacks deal an extra 2d6 thunder damage. If a creature is raging due to your Battle Fervor feature, its weapon attacks deal an extra 1d6 thunder damage. In addition, when you or a creature affected by your Battle Fervor scores a critical hit with a melee weapon attack, the target must succeed on a Strength saving throw (DC equal to 8 + your proficiency bonus + your Charisma modifier) or be pushed up to 10 feet away and knocked prone in addition to any extra damage from the critical hit.\", \\'document__slug\\': \\'toh\\', \\'document__title\\': \\'Tome of Heroes\\', \\'document__license_url\\': \\'http://open5e.com/legal\\', \\'document__url\\': \\'https://koboldpress.com/kpstore/product/tome-of-heroes-for-5th-edition/\\'}, {\\'name\\': \\'Path of the Inner Eye\\', \\'slug\\': \\'path-of-the-inner-eye\\', \\'desc\\': \"The barbarians who follow the Path of the Inner Eye elevate their rage beyond anger to glimpse premonitions of the future.\\\\n\\\\n##### Anticipatory Stance\\\\nWhen you choose this path at 3rd level, you can\\'t be surprised unless you are incapacitated, and attacks against you before your first turn have disadvantage. If you take damage before your first turn, you can enter a rage as a reaction, gaining resistance to bludgeoning, piercing, and slashing damage from the triggering attack.\\\\n  When you reach 8th level in this class, you get 1 extra reaction on each of your turns. This extra reaction can be used only for features granted by the Path of the Inner Eye, such as Insightful Dodge or Preemptive Parry. When you reach 18th level in this class, this increases to 2 extra reactions on each of your turns.\\\\n\\\\n##### Insightful Dodge\\\\nBeginning at 6th level, when you are hit by an attack while raging, you can use your reaction to move 5 feet. If this movement takes you beyond the range of the attack, the attack misses instead. You can use this feature a number of times equal to your proficiency bonus. You regain all expended uses when you finish a long rest.\\\\n\\\\n##### Foretelling Tactics\\\\nStarting at 10th level, when you hit a creature with a weapon attack while raging, up to two creatures of your choice who can see and hear you can each use a reaction to immediately move up to half its speed toward the creature you hit and make a single melee or ranged weapon attack against that creature. This movement doesn\\'t provoke opportunity attacks. Once you use this feature, you can\\'t use it again until you finish a short or long rest.\\\\n\\\\n##### Preemptive Parry\\\\nAt 14th level, if you are raging and a creature you can see within your reach hits another creature with a weapon attack, you can use your reaction to force the attacker to reroll the attack and use the lower of the two rolls. If the result is still a hit, reduce the damage dealt by your weapon damage die + your Strength modifier.\", \\'document__slug\\': \\'toh\\', \\'document__title\\': \\'Tome of Heroes\\', \\'document__license_url\\': \\'http://open5e.com/legal\\', \\'document__url\\': \\'https://koboldpress.com/kpstore/product/tome-of-heroes-for-5th-edition/\\'}, {\\'name\\': \\'Path of Thorns\\', \\'slug\\': \\'path-of-thorns\\', \\'desc\\': \"Path of Thorns barbarians use ancient techniques developed by the druids of old that enable them to grow thorns all over their body. The first barbarians of this path fought alongside these druids to defend the natural order. In the centuries since, the knowledge of these techniques has spread, allowing others access to this power.\\\\n  Though named for the thorns that covered the first barbarians to walk this path, current followers of this path can display thorns, spines, or boney growths while raging.\\\\n\\\\n##### Blossoming Thorns\\\\nBeginning at 3rd level, when you enter your rage, hard, sharp thorns emerge over your whole body, turning your unarmed strikes into dangerous weapons. When you hit with an unarmed strike while raging, your unarmed strike deals piercing damage equal to 1d4 + your Strength modifier, instead of the bludgeoning damage normal for an unarmed strike. In addition, while raging, when you use the Attack action with an unarmed strike on your turn, you can make one unarmed strike as a bonus action.\\\\n  The unarmed strike damage you deal while raging increases when you reach certain levels in this class: to 1d6 at 8th level and to 1d8 at 14th level.\\\\n\\\\n##### Thorned Grasp\\\\nAlso at 3rd level, when you use the Attack action to grapple a creature while raging, the target takes 1d4 piercing damage if your grapple check succeeds, and it takes 1d4 piercing damage at the start of each of your turns, provided you continue to grapple the creature and are raging. When you reach 10th level in this class, this damage increases to 2d4.\\\\n\\\\n##### Nature\\'s Blessing\\\\nAt 6th level, the thorns you grow while raging become more powerful and count as magical for the purpose of overcoming resistance and immunity to nonmagical attacks and damage. When you are hit by a melee weapon attack by a creature within 5 feet of you while raging, that creature takes 1d4 piercing damage. When you reach 10th level in this class, this damage increases to 2d4.\\\\n  Alternatively, while raging, you can use your reaction to disarm a creature that hits you with a melee weapon while within 5 feet of you by catching its weapon in your thorns instead of the attacker taking damage from your thorns. The attacker must succeed on a Strength saving throw (DC equal to 8 + your Constitution modifier + your proficiency bonus) or drop the weapon it used to attack you. The weapon lands at its feet. The attacker must be wielding a weapon for you to use this reaction.\\\\n\\\\n##### Toxic Infusion\\\\nStarting at 10th level, when you enter your rage or as a bonus action while raging, you can infuse your thorns with toxins for 1 minute. While your thorns are infused with toxins, the first creature you hit on each of your turns with an unarmed strike must succeed on a Constitution saving throw (DC equal to 8 + your Constitution modifier + your proficiency bonus) or be poisoned until the end of its next turn.\\\\n  You can use this feature a number of times equal to your proficiency bonus. You regain all expended uses when you finish a long rest.\\\\n\\\\n##### Thorn Barrage\\\\nAt 14th level, you can use an action to shoot the thorns from your body while raging. Each creature within 10 feet of you must make a Dexterity saving throw (DC equal to 8 + your Constitution modifier + your proficiency bonus), taking 4d6 piercing damage on a failed save, or half as much damage on a successful one.\\\\n  You can use this feature a number of times equal to your proficiency bonus. You regain all expended uses when you finish a long rest.\", \\'document__slug\\': \\'toh\\', \\'document__title\\': \\'Tome of Heroes\\', \\'document__license_url\\': \\'http://open5e.com/legal\\', \\'document__url\\': \\'https://koboldpress.com/kpstore/product/tome-of-heroes-for-5th-edition/\\'}]'"
      ]
     },
     "execution_count": 42,
     "metadata": {},
     "output_type": "execute_result"
    }
   ],
   "source": [
    "DFclasses.archetypes[0]"
   ]
  },
  {
   "cell_type": "markdown",
   "id": "82158697",
   "metadata": {},
   "source": [
    "So the subclasses are hidden under all that pile of text, but we can see that there is a pattern to the information, we will exploit that in order to make a dicitonary with all the information correctly ordered."
   ]
  },
  {
   "cell_type": "code",
   "execution_count": 87,
   "id": "381d8cc6",
   "metadata": {},
   "outputs": [
    {
     "data": {
      "text/plain": [
       "'{\\'name\\': \\'Path of the Berserker\\', \\'slug\\': \\'path-of-the-berserker\\', \\'desc\\': \"For some barbarians, rage is a means to an end- that end being violence. The Path of the Berserker is a path of untrammeled fury, slick with blood. As you enter the berserker\\'s rage, you thrill in the chaos of battle, heedless of your own health or well-being. \\\\n \\\\n##### Frenzy \\\\n \\\\nStarting when you choose this path at 3rd level, you can go into a frenzy when you rage. If you do so, for the duration of your rage you can make a single melee weapon attack as a bonus action on each of your turns after this one. When your rage ends, you suffer one level of exhaustion (as described in appendix A). \\\\n \\\\n##### Mindless Rage \\\\n \\\\nBeginning at 6th level, you can\\'t be charmed or frightened while raging. If you are charmed or frightened when you enter your rage, the effect is suspended for the duration of the rage. \\\\n \\\\n##### Intimidating Presence \\\\n \\\\nBeginning at 10th level, you can use your action to frighten someone with your menacing presence. When you do so, choose one creature that you can see within 30 feet of you. If the creature can see or hear you, it must succeed on a Wisdom saving throw (DC equal to 8 + your proficiency bonus + your Charisma modifier) or be frightened of you until the end of your next turn. On subsequent turns, you can use your action to extend the duration of this effect on the frightened creature until the end of your next turn. This effect ends if the creature ends its turn out of line of sight or more than 60 feet away from you. \\\\n \\\\nIf the creature succeeds on its saving throw, you can\\'t use this feature on that creature again for 24 hours. \\\\n \\\\n##### Retaliation \\\\n \\\\nStarting at 14th level, when you take damage from a creature that is within 5 feet of you, you can use your reaction to make a melee weapon attack against that creature.\", \\'document__slug\\': \\'wotc-srd\\', \\'document__title\\': \\'5e Core Rules\\', \\'document__license_url\\': \\'http://open5e.com/legal\\', \\'document__url\\': \\'http://dnd.wizards.com/articles/features/systems-reference-document-srd\\'}, {\\'name\\': \\'Path of the Juggernaut\\', \\'slug\\': \\'path-of-the-juggernaut\\', \\'desc\\': \\'Honed to assault the lairs of powerful threats to their way of life, or defend against armed hordes of snarling goblinoids, the juggernauts represent the finest of frontline destroyers within the primal lands and beyond.\\\\n\\\\n##### Thunderous Blows\\\\nStarting when you choose this path at 3rd level, your rage instills you with the strength to batter around your foes, making any battlefield your domain. Once per turn while raging, when you damage a creature with a melee attack, you can force the target to make a Strength saving throw (DC 8 + your proficiency bonus + your Strength modifier). On a failure, you push the target 5 feet away from you, and you can choose to immediately move 5 feet into the target’s previous position. ##### Stance of the Mountain\\\\nYou harness your fury to anchor your feet to the earth, shrugging off the blows of those who wish to topple you. Upon choosing this path at 3rd level, you cannot be knocked prone while raging unless you become unconscious.\\\\n\\\\n##### Demolishing Might\\\\nBeginning at 6th level, you can muster destructive force with your assault, shaking the core of even the strongest structures. All of your melee attacks gain the siege property (your attacks deal double damage to objects and structures). Your melee attacks against creatures of the construct type deal an additional 1d8 weapon damage.\\\\n\\\\n##### Overwhelming Cleave\\\\nUpon reaching 10th level, you wade into armies of foes, great swings of your weapon striking many who threaten you. When you make a weapon attack while raging, you can make another attack as a bonus action with the same weapon against a different creature that is within 5 feet of the original target and within range of your weapon.\\\\n\\\\n##### Unstoppable\\\\nStarting at 14th level, you can become “unstoppable” when you rage. If you do so, for the duration of the rage your speed cannot be reduced, and you are immune to the frightened, paralyzed, and stunned conditions. If you are frightened, paralyzed, or stunned, you can still take your bonus action to enter your rage and suspend the effects for the duration of the rage. When your rage ends, you suffer one level of exhaustion (as described in appendix A, PHB).\\', \\'document__slug\\': \\'taldorei\\', \\'document__title\\': \\'Critical Role: Tal’Dorei Campaign Setting\\', \\'document__license_url\\': \\'http://open5e.com/legal\\', \\'document__url\\': \\'https://https://greenronin.com/blog/2017/09/25/ronin-round-table-integrating-wizards-5e-adventures-with-the-taldorei-campaign-setting/\\'}, {\\'name\\': \\'Path of Booming Magnificence\\', \\'slug\\': \\'path-of-booming-magnificence\\', \\'desc\\': \"Barbarians who walk the Path of Booming Magnificence strive to be as lions among their people: symbols of vitality, majesty, and courage. They serve at the vanguard, leading their allies at each charge and drawing their opponents\\' attention away from more vulnerable members of their group. As they grow more experienced, members of this path often take on roles as leaders or in other integral positions.\\\\n\\\\n##### Roar of Defiance\\\\nBeginning at 3rd level, you can announce your presence by unleashing a thunderous roar as part of the bonus action you take to enter your rage. Until the beginning of your next turn, each creature of your choice within 30 feet of you that can hear you has disadvantage on any attack roll that doesn\\'t target you.\\\\n  Until the rage ends, if a creature within 5 feet of you that heard your Roar of Defiance deals damage to you, you can use your reaction to bellow at them. Your attacker must succeed on a Constitution saving throw or take 1d6 thunder damage. The DC is equal to 8 + your proficiency bonus + your Charisma modifier. The damage you deal with this feature increases to 2d6 at 10th level. Once a creature takes damage from this feature, you can\\'t use this feature on that creature again during this rage.\\\\n\\\\n##### Running Leap\\\\nAt 3rd level, while you are raging, you can leap further. When you make a standing long jump, you can leap a number of feet equal to your Strength score. With a 10-foot running start, you can long jump a number of feet equal to twice your Strength score.\\\\n\\\\n##### Lion\\'s Glory\\\\nStarting at 6th level, when you enter your rage, you can choose a number of allies that can see you equal to your Charisma modifier (minimum 1). Until the rage ends, when a chosen ally makes a melee weapon attack, the ally gains a bonus to the damage roll equal to the Rage Damage bonus you gain, as shown in the Rage Damage column of the Barbarian table. Once used, you can\\'t use this feature again until you finish a long rest.\\\\n\\\\n##### Resonant Bellow\\\\nAt 10th level, your roars can pierce the fog of fear. As a bonus action, you can unleash a mighty roar, ending the frightened condition on yourself and each creature of your choice within 60 feet of you and who can hear you. Each creature that ceases to be frightened gains 1d12 + your Charisma modifier (minimum +1) temporary hit points for 1 hour. Once used, you can\\'t use this feature again until you finish a short or long rest.\\\\n\\\\n##### Victorious Roar\\\\nAt 14th level, you exult in your victories. When you hit with at least two attacks on the same turn, you can use a bonus action to unleash a victorious roar. One creature you can see within 30 feet of you must make a Wisdom saving throw with a DC equal to 8 + your proficiency bonus + your Charisma modifier. On a failure, the creature takes psychic damage equal to your barbarian level and is frightened until the end of its next turn. On a success, it takes half the damage and isn\\'t frightened.\", \\'document__slug\\': \\'toh\\', \\'document__title\\': \\'Tome of Heroes\\', \\'document__license_url\\': \\'http://open5e.com/legal\\', \\'document__url\\': \\'https://koboldpress.com/kpstore/product/tome-of-heroes-for-5th-edition/\\'}, {\\'name\\': \\'Path of Hellfire\\', \\'slug\\': \\'path-of-hellfire\\', \\'desc\\': \"Devils have long been known to grant power to mortals as part of a pact or bargain. While this may take the form of unique magic or boons, those who follow the Path of Hellfire are gifted with command over the fires of the Lower Planes, which they channel for short periods to become powerful and furious fighting machines.\\\\n  While some of these barbarians are enlisted to support the devils\\' interests as soldiers or enforcers, some escape their devilish fates, while others still are released after their term of service.\\\\n\\\\n#####Hellish Aspect\\\\nBeginning at 3rd level, when you enter your rage, you take on minor fiendish aspects. The way these aspects manifest is up to you and can include sprouting horns from your head, changing the color of your skin, growing fangs or a tail, or other small physical changes. Though infused with fiendish power, you aren\\'t a fiend. While raging, you have resistance to fire damage, and the first creature you hit on each of your turns with a weapon attack takes 1d6 extra fire damage. This damage increases to 2d6 at 10th level.\\\\n\\\\n#####Hell\\'s Vengeance\\\\nAt 6th level, you can use your hellfire to punish enemies. If an ally you can see within 60 feet of you takes damage while you are raging, you can use your reaction to surround the attacker with hellfire, dealing fire damage equal to your proficiency bonus to it.\\\\n\\\\n#####Hellfire Shield\\\\nStarting at 10th level, when you enter your rage, you can surround yourself with flames. This effect works like the fire shield spell, except you are surrounded with a warm shield only and it ends when your rage ends. Once used, you can\\'t use this feature again until you finish a short or long rest.\\\\n\\\\n#####Devilish Essence\\\\nAt 14th level, while raging, you have advantage on saving throws against spells and other magical effects, and if you take damage from a spell, you can use your reaction to gain temporary hit points equal to your barbarian level.\", \\'document__slug\\': \\'toh\\', \\'document__title\\': \\'Tome of Heroes\\', \\'document__license_url\\': \\'http://open5e.com/legal\\', \\'document__url\\': \\'https://koboldpress.com/kpstore/product/tome-of-heroes-for-5th-edition/\\'}, {\\'name\\': \\'Path of Mistwood\\', \\'slug\\': \\'path-of-mistwood\\', \\'desc\\': \"The first barbarians that traveled the path of mistwood were elves who expanded upon their natural gifts to become masters of the forests. Over time, members of other races who saw the need to protect and cherish the green places of the world joined and learned from them. Often these warriors haunt the woods alone, only seen when called to action by something that would despoil their home.\\\\n\\\\n##### Bonus Proficiency\\\\nAt 3rd level, you gain proficiency in the Stealth skill. If you are already proficient in Stealth, you gain proficiency in another barbarian class skill of your choice.\\\\n\\\\n##### Mistwood Defender\\\\nStarting at 3rd level, you can use the Reckless Attack feature on ranged weapon attacks with thrown weapons, and, while you aren\\'t within melee range of a hostile creature that isn\\'t incapacitated, you can draw and throw a thrown weapon as a bonus action.\\\\n  In addition, when you make a ranged weapon attack with a thrown weapon using Strength while raging, you can add your Rage Damage bonus to the damage you deal with the thrown weapon.\\\\n\\\\n##### From the Mist\\\\nBeginning at 6th level, mist and fog don\\'t hinder your vision. In addition, you can cast the misty step spell, and you can make one attack with a thrown weapon as part of the same bonus action immediately before or immediately after you cast the spell. You can cast this spell while raging. You can use this feature a number of times equal to your proficiency bonus, and you regain all expended uses when you finish a long rest.\\\\n\\\\n##### Mist Dance\\\\nStarting at 10th level, when you use the Attack action while raging, you can make one attack against each creature within 5 feet of you in place of one of your attacks. You can use this feature a number of times equal to your proficiency bonus, and you regain all expended uses when you finish a long rest.\\\\n\\\\n##### War Band\\'s Passage\\\\nStarting at 14th level, when you use your From the Mist feature to cast misty step, you can bring up to two willing creatures within 5 feet of you along with you, as long as each creature isn\\'t carrying more than its carrying capacity. Attacks against you and any creatures you bring with you have disadvantage until the start of your next turn.\", \\'document__slug\\': \\'toh\\', \\'document__title\\': \\'Tome of Heroes\\', \\'document__license_url\\': \\'http://open5e.com/legal\\', \\'document__url\\': \\'https://koboldpress.com/kpstore/product/tome-of-heroes-for-5th-edition/\\'}, {\\'name\\': \\'Path of the Dragon\\', \\'slug\\': \\'path-of-the-dragon\\', \\'desc\\': \"Few creatures embody the power and majesty of dragons. By walking the path of the dragon, you don\\'t solely aspire to emulate these creatures—you seek to become one. The barbarians who follow this path often do so after surviving a dragon encounter or are raised in a culture that worships them. Dragons tend to have a mixed view of the barbarians who choose this path. Some dragons, in particular the metallic dragons, view such a transformation as a flattering act of admiration. Others may recognize or even fully embrace them as useful to their own ambitions. Still others view this path as embarrassing at best and insulting at worst, for what puny, two-legged creature can ever hope to come close to the natural ferocity of a dragon? When choosing this path, consider what experiences drove you to such a course. These experiences will help inform how you deal with the judgment of dragons you encounter in the world.\\\\n\\\\n##### Totem Dragon\\\\nStarting when you choose this path at 3rd level, you choose which type of dragon you seek to emulate. You can speak and read Draconic, and you are resistant to the damage type of your chosen dragon.\\\\n\\\\n| Dragon | Damage Type | \\\\n|---------------------|-------------| \\\\n| Black or Copper | Acid | \\\\n| Blue or Bronze | Lightning | \\\\n| Brass, Gold, or Red | Fire | \\\\n| Green | Poison | \\\\n| Silver or White | Cold |\\\\n\\\\n##### Wyrm Teeth\\\\nAt 3rd level, your jaws extend and become dragon-like when you enter your rage. While raging, you can use a bonus action to make a melee attack with your bite against one creature you can see within 5 feet of you. You are proficient with the bite. When you hit with it, your bite deals piercing damage equal to 1d8 + your Strength modifier + damage of the type associated with your totem dragon equal to your proficiency bonus.\\\\n\\\\n##### Legendary Might\\\\nStarting at 6th level, if you fail a saving throw, you can choose to succeed instead. Once you use this feature, you can\\'t use it again until you finish a long rest. When you reach 14th level in this class, you can use this feature twice between long rests.\\\\n\\\\n##### Aspect of the Dragon\\\\nAt 10th level, you take on additional draconic features while raging. When you enter your rage, choose one of the following aspects to manifest.\\\\n\\\\n***Dragon Heart.*** You gain temporary hit points equal to 1d12 + your barbarian level. Once you manifest this aspect, you must finish a short or long rest before you can manifest it again.\\\\n\\\\n***Dragon Hide.*** Scales sprout across your skin. Your Armor Class increases by 2.\\\\n\\\\n***Dragon Sight.*** Your senses become those of a dragon. You have blindsight out to a range of 60 feet.\\\\n\\\\n***Dragon Wings.*** You sprout a pair of wings that resemble those of your totem dragon. While the wings are present, you have a flying speed of 30 feet. You can\\'t manifest your wings while wearing armor unless it is made to accommodate them, and clothing not made to accommodate your wings might be destroyed when you manifest them.\\\\n\\\\n##### Wyrm Lungs\\\\nAt 14th level, while raging, you can use an action to make a breath weapon attack. You exhale your breath in a 60-foot cone. Each creature in the area must make a Dexterity saving throw (DC equal to 8 + your proficiency bonus + your Constitution modifier), taking 12d8 damage of the type associated with your totem dragon on a failed save, or half as much damage on a successful one. Once you use this feature, you can\\'t use it again until you finish a long rest.\", \\'document__slug\\': \\'toh\\', \\'document__title\\': \\'Tome of Heroes\\', \\'document__license_url\\': \\'http://open5e.com/legal\\', \\'document__url\\': \\'https://koboldpress.com/kpstore/product/tome-of-heroes-for-5th-edition/\\'}, {\\'name\\': \\'Path of the Herald\\', \\'slug\\': \\'path-of-the-herald\\', \\'desc\\': \"In northern lands, the savage warriors charge into battle behind chanting warrior-poets. These wise men and women collect the histories, traditions, and accumulated knowledge of the people to preserve and pass on. Barbarians who follow the Path of the Herald lead their people into battle, chanting the tribe\\'s sagas and spurring them on to new victories while honoring the glory of the past.\\\\n\\\\n##### Oral Tradition\\\\nWhen you adopt this path at 3rd level, you gain proficiency in History and Performance. If you already have proficiency in one of these skills, your proficiency bonus is doubled for ability checks you make using that skill.\\\\n\\\\n##### Battle Fervor\\\\nStarting when you choose this path at 3rd level, when you enter a rage, you can expend one additional daily use of rage to allow a number of willing creatures equal to half your proficiency bonus (minimum of 1) within 30 feet of you to enter a rage as well. A target must be able to see and hear you to enter this rage. Each target gains the benefits and restrictions of the barbarian Rage class feature. In addition, the rage ends early on a target if it can no longer see or hear you.\\\\n\\\\n##### Lorekeeper\\\\nAs a historian, you know how much impact the past has on the present. At 6th level, you can enter a trance and explore your people\\'s sagas to cast the augury, comprehend languages, or identify spell, but only as a ritual. After you cast a spell in this way, you can\\'t use this feature again until you finish a short or long rest.\\\\n\\\\n##### Bolstering Chant\\\\nAt 10th level, when you end your rage as a bonus action, you regain a number of hit points equal to your barbarian level *x* 3. Alternatively, if you end your rage and other creatures are also raging due to your Battle Fervor feature, you and each creature affected by your Battle Fervor regains a number of hit points equal to your barbarian level + your Charisma modifier.\\\\n\\\\n##### Thunderous Oratory\\\\nAt 14th level, while you are raging, your attacks deal an extra 2d6 thunder damage. If a creature is raging due to your Battle Fervor feature, its weapon attacks deal an extra 1d6 thunder damage. In addition, when you or a creature affected by your Battle Fervor scores a critical hit with a melee weapon attack, the target must succeed on a Strength saving throw (DC equal to 8 + your proficiency bonus + your Charisma modifier) or be pushed up to 10 feet away and knocked prone in addition to any extra damage from the critical hit.\", \\'document__slug\\': \\'toh\\', \\'document__title\\': \\'Tome of Heroes\\', \\'document__license_url\\': \\'http://open5e.com/legal\\', \\'document__url\\': \\'https://koboldpress.com/kpstore/product/tome-of-heroes-for-5th-edition/\\'}, {\\'name\\': \\'Path of the Inner Eye\\', \\'slug\\': \\'path-of-the-inner-eye\\', \\'desc\\': \"The barbarians who follow the Path of the Inner Eye elevate their rage beyond anger to glimpse premonitions of the future.\\\\n\\\\n##### Anticipatory Stance\\\\nWhen you choose this path at 3rd level, you can\\'t be surprised unless you are incapacitated, and attacks against you before your first turn have disadvantage. If you take damage before your first turn, you can enter a rage as a reaction, gaining resistance to bludgeoning, piercing, and slashing damage from the triggering attack.\\\\n  When you reach 8th level in this class, you get 1 extra reaction on each of your turns. This extra reaction can be used only for features granted by the Path of the Inner Eye, such as Insightful Dodge or Preemptive Parry. When you reach 18th level in this class, this increases to 2 extra reactions on each of your turns.\\\\n\\\\n##### Insightful Dodge\\\\nBeginning at 6th level, when you are hit by an attack while raging, you can use your reaction to move 5 feet. If this movement takes you beyond the range of the attack, the attack misses instead. You can use this feature a number of times equal to your proficiency bonus. You regain all expended uses when you finish a long rest.\\\\n\\\\n##### Foretelling Tactics\\\\nStarting at 10th level, when you hit a creature with a weapon attack while raging, up to two creatures of your choice who can see and hear you can each use a reaction to immediately move up to half its speed toward the creature you hit and make a single melee or ranged weapon attack against that creature. This movement doesn\\'t provoke opportunity attacks. Once you use this feature, you can\\'t use it again until you finish a short or long rest.\\\\n\\\\n##### Preemptive Parry\\\\nAt 14th level, if you are raging and a creature you can see within your reach hits another creature with a weapon attack, you can use your reaction to force the attacker to reroll the attack and use the lower of the two rolls. If the result is still a hit, reduce the damage dealt by your weapon damage die + your Strength modifier.\", \\'document__slug\\': \\'toh\\', \\'document__title\\': \\'Tome of Heroes\\', \\'document__license_url\\': \\'http://open5e.com/legal\\', \\'document__url\\': \\'https://koboldpress.com/kpstore/product/tome-of-heroes-for-5th-edition/\\'}, {\\'name\\': \\'Path of Thorns\\', \\'slug\\': \\'path-of-thorns\\', \\'desc\\': \"Path of Thorns barbarians use ancient techniques developed by the druids of old that enable them to grow thorns all over their body. The first barbarians of this path fought alongside these druids to defend the natural order. In the centuries since, the knowledge of these techniques has spread, allowing others access to this power.\\\\n  Though named for the thorns that covered the first barbarians to walk this path, current followers of this path can display thorns, spines, or boney growths while raging.\\\\n\\\\n##### Blossoming Thorns\\\\nBeginning at 3rd level, when you enter your rage, hard, sharp thorns emerge over your whole body, turning your unarmed strikes into dangerous weapons. When you hit with an unarmed strike while raging, your unarmed strike deals piercing damage equal to 1d4 + your Strength modifier, instead of the bludgeoning damage normal for an unarmed strike. In addition, while raging, when you use the Attack action with an unarmed strike on your turn, you can make one unarmed strike as a bonus action.\\\\n  The unarmed strike damage you deal while raging increases when you reach certain levels in this class: to 1d6 at 8th level and to 1d8 at 14th level.\\\\n\\\\n##### Thorned Grasp\\\\nAlso at 3rd level, when you use the Attack action to grapple a creature while raging, the target takes 1d4 piercing damage if your grapple check succeeds, and it takes 1d4 piercing damage at the start of each of your turns, provided you continue to grapple the creature and are raging. When you reach 10th level in this class, this damage increases to 2d4.\\\\n\\\\n##### Nature\\'s Blessing\\\\nAt 6th level, the thorns you grow while raging become more powerful and count as magical for the purpose of overcoming resistance and immunity to nonmagical attacks and damage. When you are hit by a melee weapon attack by a creature within 5 feet of you while raging, that creature takes 1d4 piercing damage. When you reach 10th level in this class, this damage increases to 2d4.\\\\n  Alternatively, while raging, you can use your reaction to disarm a creature that hits you with a melee weapon while within 5 feet of you by catching its weapon in your thorns instead of the attacker taking damage from your thorns. The attacker must succeed on a Strength saving throw (DC equal to 8 + your Constitution modifier + your proficiency bonus) or drop the weapon it used to attack you. The weapon lands at its feet. The attacker must be wielding a weapon for you to use this reaction.\\\\n\\\\n##### Toxic Infusion\\\\nStarting at 10th level, when you enter your rage or as a bonus action while raging, you can infuse your thorns with toxins for 1 minute. While your thorns are infused with toxins, the first creature you hit on each of your turns with an unarmed strike must succeed on a Constitution saving throw (DC equal to 8 + your Constitution modifier + your proficiency bonus) or be poisoned until the end of its next turn.\\\\n  You can use this feature a number of times equal to your proficiency bonus. You regain all expended uses when you finish a long rest.\\\\n\\\\n##### Thorn Barrage\\\\nAt 14th level, you can use an action to shoot the thorns from your body while raging. Each creature within 10 feet of you must make a Dexterity saving throw (DC equal to 8 + your Constitution modifier + your proficiency bonus), taking 4d6 piercing damage on a failed save, or half as much damage on a successful one.\\\\n  You can use this feature a number of times equal to your proficiency bonus. You regain all expended uses when you finish a long rest.\", \\'document__slug\\': \\'toh\\', \\'document__title\\': \\'Tome of Heroes\\', \\'document__license_url\\': \\'http://open5e.com/legal\\', \\'document__url\\': \\'https://koboldpress.com/kpstore/product/tome-of-heroes-for-5th-edition/\\'}'"
      ]
     },
     "execution_count": 87,
     "metadata": {},
     "output_type": "execute_result"
    }
   ],
   "source": [
    "# Extract the JSON string from the DataFrame\n",
    "text =DFclasses.archetypes[0][1:-1]\n",
    "\n",
    "# Correct the JSON string (replace single quotes with double quotes)\n",
    "#json_str = json_str.replace(\"'\", '\"')\n",
    "\n",
    "# Attempt to load JSON\n",
    "text"
   ]
  },
  {
   "cell_type": "markdown",
   "id": "6b030add",
   "metadata": {},
   "source": [
    "We get a problem, so lets examine the problem"
   ]
  },
  {
   "cell_type": "code",
   "execution_count": 82,
   "id": "93ad3076",
   "metadata": {},
   "outputs": [
    {
     "data": {
      "text/plain": [
       "'}'"
      ]
     },
     "execution_count": 82,
     "metadata": {},
     "output_type": "execute_result"
    }
   ],
   "source": [
    "json_str[-2:-1]"
   ]
  },
  {
   "cell_type": "code",
   "execution_count": null,
   "id": "61dd7d60",
   "metadata": {},
   "outputs": [],
   "source": [
    "we see that the problem is that some of the sigle quotes where just part of the text. "
   ]
  }
 ],
 "metadata": {
  "kernelspec": {
   "display_name": "Python 3 (ipykernel)",
   "language": "python",
   "name": "python3"
  },
  "language_info": {
   "codemirror_mode": {
    "name": "ipython",
    "version": 3
   },
   "file_extension": ".py",
   "mimetype": "text/x-python",
   "name": "python",
   "nbconvert_exporter": "python",
   "pygments_lexer": "ipython3",
   "version": "3.10.9"
  }
 },
 "nbformat": 4,
 "nbformat_minor": 5
}
