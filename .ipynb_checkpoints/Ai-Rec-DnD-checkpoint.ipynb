{
 "cells": [
  {
   "cell_type": "markdown",
   "id": "ec760541",
   "metadata": {},
   "source": [
    "# Building a AI Recomendation System for D&D"
   ]
  },
  {
   "cell_type": "markdown",
   "id": "bf3242ad",
   "metadata": {},
   "source": [
    "## Import Libraries"
   ]
  },
  {
   "cell_type": "code",
   "execution_count": 1,
   "id": "ff6244ac",
   "metadata": {
    "ExecuteTime": {
     "end_time": "2024-06-13T10:24:34.288813Z",
     "start_time": "2024-06-13T10:24:33.743177Z"
    }
   },
   "outputs": [],
   "source": [
    "import requests\n",
    "import pandas as pd\n",
    "import numpy as np\n",
    "import os"
   ]
  },
  {
   "cell_type": "markdown",
   "id": "97db4167",
   "metadata": {},
   "source": [
    "## Fetch data with API"
   ]
  },
  {
   "cell_type": "markdown",
   "id": "adac4083",
   "metadata": {},
   "source": [
    "Open5e has an API that allows to fetch all types of data related to Dungeons and Dragons 5th edition"
   ]
  },
  {
   "cell_type": "code",
   "execution_count": 6,
   "id": "20253daa",
   "metadata": {
    "ExecuteTime": {
     "end_time": "2024-06-13T10:38:41.918034Z",
     "start_time": "2024-06-13T10:38:30.119987Z"
    }
   },
   "outputs": [
    {
     "name": "stdout",
     "output_type": "stream",
     "text": [
      "No data fetched for manifest\n",
      "Data for spells saved to data\\spells.csv\n",
      "Data for spelllist saved to data\\spelllist.csv\n",
      "Data for monsters saved to data\\monsters.csv\n",
      "Data for documents saved to data\\documents.csv\n",
      "Data for backgrounds saved to data\\backgrounds.csv\n",
      "Data for planes saved to data\\planes.csv\n",
      "Data for sections saved to data\\sections.csv\n",
      "Data for feats saved to data\\feats.csv\n",
      "Data for conditions saved to data\\conditions.csv\n",
      "Data for races saved to data\\races.csv\n",
      "Data for classes saved to data\\classes.csv\n",
      "Data for magicitems saved to data\\magicitems.csv\n",
      "Data for weapons saved to data\\weapons.csv\n",
      "Data for armor saved to data\\armor.csv\n",
      "Data fetching and saving complete.\n"
     ]
    }
   ],
   "source": [
    "# Define the API base URL and endpoints\n",
    "api_base_url = \"https://api.open5e.com/v1/\"\n",
    "endpoints = [\n",
    "    \"spells\", \"spelllist\", \"monsters\", \"documents\", \"backgrounds\", \n",
    "    \"planes\", \"sections\", \"feats\", \"conditions\", \"races\", \"classes\", \n",
    "    \"magicitems\", \"weapons\", \"armor\"\n",
    "]\n",
    "\n",
    "# Function to fetch data from the API\n",
    "def fetch_data(endpoint, params=None):\n",
    "    url = f\"{api_base_url}{endpoint}/\"\n",
    "    response = requests.get(url, params=params)\n",
    "    if response.status_code == 200:\n",
    "        data = response.json()\n",
    "        return data['results']  # assuming paginated results\n",
    "    else:\n",
    "        print(f\"Failed to fetch data from {url}\")\n",
    "        return None\n",
    "\n",
    "# Create a directory to save CSV files\n",
    "output_dir = \"data\"\n",
    "os.makedirs(output_dir, exist_ok=True)\n",
    "\n",
    "# Loop through each endpoint, fetch data, and save it to CSV\n",
    "for endpoint in endpoints:\n",
    "    data = fetch_data(endpoint)\n",
    "    if data:\n",
    "        df = pd.DataFrame(data)\n",
    "        # Save DataFrame to CSV file\n",
    "        csv_file = os.path.join(output_dir, f\"{endpoint}.csv\")\n",
    "        df.to_csv(csv_file, index=False)\n",
    "        print(f\"Data for {endpoint} saved to {csv_file}\")\n",
    "    else:\n",
    "        print(f\"No data fetched for {endpoint}\")\n",
    "\n",
    "print(\"Data fetching and saving complete.\")\n"
   ]
  },
  {
   "cell_type": "markdown",
   "id": "56246518",
   "metadata": {},
   "source": [
    "## Lets Understand the Data"
   ]
  },
  {
   "cell_type": "code",
   "execution_count": 11,
   "id": "a3ba733a",
   "metadata": {
    "ExecuteTime": {
     "end_time": "2024-06-13T10:49:38.783468Z",
     "start_time": "2024-06-13T10:49:38.750150Z"
    }
   },
   "outputs": [
    {
     "data": {
      "text/html": [
       "<div>\n",
       "<style scoped>\n",
       "    .dataframe tbody tr th:only-of-type {\n",
       "        vertical-align: middle;\n",
       "    }\n",
       "\n",
       "    .dataframe tbody tr th {\n",
       "        vertical-align: top;\n",
       "    }\n",
       "\n",
       "    .dataframe thead th {\n",
       "        text-align: right;\n",
       "    }\n",
       "</style>\n",
       "<table border=\"1\" class=\"dataframe\">\n",
       "  <thead>\n",
       "    <tr style=\"text-align: right;\">\n",
       "      <th></th>\n",
       "      <th>name</th>\n",
       "      <th>slug</th>\n",
       "      <th>desc</th>\n",
       "      <th>hit_dice</th>\n",
       "      <th>hp_at_1st_level</th>\n",
       "      <th>hp_at_higher_levels</th>\n",
       "      <th>prof_armor</th>\n",
       "      <th>prof_weapons</th>\n",
       "      <th>prof_tools</th>\n",
       "      <th>prof_saving_throws</th>\n",
       "      <th>prof_skills</th>\n",
       "      <th>equipment</th>\n",
       "      <th>table</th>\n",
       "      <th>spellcasting_ability</th>\n",
       "      <th>subtypes_name</th>\n",
       "      <th>archetypes</th>\n",
       "      <th>document__slug</th>\n",
       "      <th>document__title</th>\n",
       "      <th>document__license_url</th>\n",
       "      <th>document__url</th>\n",
       "    </tr>\n",
       "  </thead>\n",
       "  <tbody>\n",
       "    <tr>\n",
       "      <th>0</th>\n",
       "      <td>Barbarian</td>\n",
       "      <td>barbarian</td>\n",
       "      <td>### Rage \\n \\nIn battle, you fight with primal...</td>\n",
       "      <td>1d12</td>\n",
       "      <td>12 + your Constitution modifier</td>\n",
       "      <td>1d12 (or 7) + your Constitution modifier per b...</td>\n",
       "      <td>Light armor, medium armor, shields</td>\n",
       "      <td>Simple weapons, martial weapons</td>\n",
       "      <td>None</td>\n",
       "      <td>Strength, Constitution</td>\n",
       "      <td>Choose two from Animal Handling, Athletics, In...</td>\n",
       "      <td>You start with the following equipment, in add...</td>\n",
       "      <td>| Level  | Proficiency Bonus | Features       ...</td>\n",
       "      <td>NaN</td>\n",
       "      <td>Primal Paths</td>\n",
       "      <td>[{'name': 'Path of the Berserker', 'slug': 'pa...</td>\n",
       "      <td>wotc-srd</td>\n",
       "      <td>5e Core Rules</td>\n",
       "      <td>http://open5e.com/legal</td>\n",
       "      <td>http://dnd.wizards.com/articles/features/syste...</td>\n",
       "    </tr>\n",
       "    <tr>\n",
       "      <th>1</th>\n",
       "      <td>Bard</td>\n",
       "      <td>bard</td>\n",
       "      <td>### Spellcasting \\n \\nYou have learned to unta...</td>\n",
       "      <td>1d8</td>\n",
       "      <td>8 + your Constitution modifier</td>\n",
       "      <td>1d8 (or 5) + your Constitution modifier per ba...</td>\n",
       "      <td>Light armor</td>\n",
       "      <td>Simple weapons, hand crossbows, longswords, ra...</td>\n",
       "      <td>Three musical instruments of your choice</td>\n",
       "      <td>Dexterity, Charisma</td>\n",
       "      <td>Choose any three</td>\n",
       "      <td>You start with the following equipment, in add...</td>\n",
       "      <td>| Level | Proficiency Bonus | Features        ...</td>\n",
       "      <td>Charisma</td>\n",
       "      <td>Bard Colleges</td>\n",
       "      <td>[{'name': 'College of Lore', 'slug': 'college-...</td>\n",
       "      <td>wotc-srd</td>\n",
       "      <td>5e Core Rules</td>\n",
       "      <td>http://open5e.com/legal</td>\n",
       "      <td>http://dnd.wizards.com/articles/features/syste...</td>\n",
       "    </tr>\n",
       "  </tbody>\n",
       "</table>\n",
       "</div>"
      ],
      "text/plain": [
       "        name       slug                                               desc  \\\n",
       "0  Barbarian  barbarian  ### Rage \\n \\nIn battle, you fight with primal...   \n",
       "1       Bard       bard  ### Spellcasting \\n \\nYou have learned to unta...   \n",
       "\n",
       "  hit_dice                  hp_at_1st_level  \\\n",
       "0     1d12  12 + your Constitution modifier   \n",
       "1      1d8   8 + your Constitution modifier   \n",
       "\n",
       "                                 hp_at_higher_levels  \\\n",
       "0  1d12 (or 7) + your Constitution modifier per b...   \n",
       "1  1d8 (or 5) + your Constitution modifier per ba...   \n",
       "\n",
       "                           prof_armor  \\\n",
       "0  Light armor, medium armor, shields   \n",
       "1                         Light armor   \n",
       "\n",
       "                                        prof_weapons  \\\n",
       "0                    Simple weapons, martial weapons   \n",
       "1  Simple weapons, hand crossbows, longswords, ra...   \n",
       "\n",
       "                                 prof_tools      prof_saving_throws  \\\n",
       "0                                      None  Strength, Constitution   \n",
       "1  Three musical instruments of your choice     Dexterity, Charisma   \n",
       "\n",
       "                                         prof_skills  \\\n",
       "0  Choose two from Animal Handling, Athletics, In...   \n",
       "1                                   Choose any three   \n",
       "\n",
       "                                           equipment  \\\n",
       "0  You start with the following equipment, in add...   \n",
       "1  You start with the following equipment, in add...   \n",
       "\n",
       "                                               table spellcasting_ability  \\\n",
       "0  | Level  | Proficiency Bonus | Features       ...                  NaN   \n",
       "1  | Level | Proficiency Bonus | Features        ...             Charisma   \n",
       "\n",
       "   subtypes_name                                         archetypes  \\\n",
       "0   Primal Paths  [{'name': 'Path of the Berserker', 'slug': 'pa...   \n",
       "1  Bard Colleges  [{'name': 'College of Lore', 'slug': 'college-...   \n",
       "\n",
       "  document__slug document__title    document__license_url  \\\n",
       "0       wotc-srd   5e Core Rules  http://open5e.com/legal   \n",
       "1       wotc-srd   5e Core Rules  http://open5e.com/legal   \n",
       "\n",
       "                                       document__url  \n",
       "0  http://dnd.wizards.com/articles/features/syste...  \n",
       "1  http://dnd.wizards.com/articles/features/syste...  "
      ]
     },
     "execution_count": 11,
     "metadata": {},
     "output_type": "execute_result"
    }
   ],
   "source": [
    "#Data from classes\n",
    "DFclasses = pd.read_csv('data/classes.csv')\n",
    "DFclasses.head(2)"
   ]
  },
  {
   "cell_type": "code",
   "execution_count": 20,
   "id": "a21834af",
   "metadata": {
    "ExecuteTime": {
     "end_time": "2024-06-13T10:50:40.427940Z",
     "start_time": "2024-06-13T10:50:40.415671Z"
    }
   },
   "outputs": [
    {
     "data": {
      "text/plain": [
       "Index(['name', 'slug', 'desc', 'hit_dice', 'hp_at_1st_level',\n",
       "       'hp_at_higher_levels', 'prof_armor', 'prof_weapons', 'prof_tools',\n",
       "       'prof_saving_throws', 'prof_skills', 'equipment', 'table',\n",
       "       'spellcasting_ability', 'subtypes_name', 'archetypes', 'document__slug',\n",
       "       'document__title', 'document__license_url', 'document__url'],\n",
       "      dtype='object')"
      ]
     },
     "execution_count": 20,
     "metadata": {},
     "output_type": "execute_result"
    }
   ],
   "source": [
    "DFclasses.columns"
   ]
  },
  {
   "cell_type": "markdown",
   "id": "a1128ad1",
   "metadata": {},
   "source": [
    "From this we can see that some columns are probably not usefull, such as the urls, the slugs and document title. so we will drop them"
   ]
  },
  {
   "cell_type": "code",
   "execution_count": null,
   "id": "e656d193",
   "metadata": {
    "ExecuteTime": {
     "end_time": "2024-06-13T11:13:05.668664Z",
     "start_time": "2024-06-13T11:13:05.632125Z"
    }
   },
   "outputs": [],
   "source": [
    "DFclasses.drop(['slug','document__slug','document__title', 'document__license_url', 'document__url'],axis=1, inplace=True)"
   ]
  },
  {
   "cell_type": "code",
   "execution_count": 31,
   "id": "fde75de3",
   "metadata": {
    "ExecuteTime": {
     "end_time": "2024-06-13T11:21:16.966148Z",
     "start_time": "2024-06-13T11:21:16.953043Z"
    }
   },
   "outputs": [
    {
     "data": {
      "text/html": [
       "<div>\n",
       "<style scoped>\n",
       "    .dataframe tbody tr th:only-of-type {\n",
       "        vertical-align: middle;\n",
       "    }\n",
       "\n",
       "    .dataframe tbody tr th {\n",
       "        vertical-align: top;\n",
       "    }\n",
       "\n",
       "    .dataframe thead th {\n",
       "        text-align: right;\n",
       "    }\n",
       "</style>\n",
       "<table border=\"1\" class=\"dataframe\">\n",
       "  <thead>\n",
       "    <tr style=\"text-align: right;\">\n",
       "      <th></th>\n",
       "      <th>name</th>\n",
       "      <th>desc</th>\n",
       "      <th>hit_dice</th>\n",
       "      <th>hp_at_1st_level</th>\n",
       "      <th>hp_at_higher_levels</th>\n",
       "      <th>prof_armor</th>\n",
       "      <th>prof_weapons</th>\n",
       "      <th>prof_tools</th>\n",
       "      <th>prof_saving_throws</th>\n",
       "      <th>prof_skills</th>\n",
       "      <th>equipment</th>\n",
       "      <th>table</th>\n",
       "      <th>spellcasting_ability</th>\n",
       "      <th>subtypes_name</th>\n",
       "      <th>archetypes</th>\n",
       "    </tr>\n",
       "  </thead>\n",
       "  <tbody>\n",
       "    <tr>\n",
       "      <th>0</th>\n",
       "      <td>Barbarian</td>\n",
       "      <td>### Rage \\n \\nIn battle, you fight with primal...</td>\n",
       "      <td>1d12</td>\n",
       "      <td>12 + your Constitution modifier</td>\n",
       "      <td>1d12 (or 7) + your Constitution modifier per b...</td>\n",
       "      <td>Light armor, medium armor, shields</td>\n",
       "      <td>Simple weapons, martial weapons</td>\n",
       "      <td>None</td>\n",
       "      <td>Strength, Constitution</td>\n",
       "      <td>Choose two from Animal Handling, Athletics, In...</td>\n",
       "      <td>You start with the following equipment, in add...</td>\n",
       "      <td>| Level  | Proficiency Bonus | Features       ...</td>\n",
       "      <td>NaN</td>\n",
       "      <td>Primal Paths</td>\n",
       "      <td>[{'name': 'Path of the Berserker', 'slug': 'pa...</td>\n",
       "    </tr>\n",
       "  </tbody>\n",
       "</table>\n",
       "</div>"
      ],
      "text/plain": [
       "        name                                               desc hit_dice  \\\n",
       "0  Barbarian  ### Rage \\n \\nIn battle, you fight with primal...     1d12   \n",
       "\n",
       "                   hp_at_1st_level  \\\n",
       "0  12 + your Constitution modifier   \n",
       "\n",
       "                                 hp_at_higher_levels  \\\n",
       "0  1d12 (or 7) + your Constitution modifier per b...   \n",
       "\n",
       "                           prof_armor                     prof_weapons  \\\n",
       "0  Light armor, medium armor, shields  Simple weapons, martial weapons   \n",
       "\n",
       "  prof_tools      prof_saving_throws  \\\n",
       "0       None  Strength, Constitution   \n",
       "\n",
       "                                         prof_skills  \\\n",
       "0  Choose two from Animal Handling, Athletics, In...   \n",
       "\n",
       "                                           equipment  \\\n",
       "0  You start with the following equipment, in add...   \n",
       "\n",
       "                                               table spellcasting_ability  \\\n",
       "0  | Level  | Proficiency Bonus | Features       ...                  NaN   \n",
       "\n",
       "  subtypes_name                                         archetypes  \n",
       "0  Primal Paths  [{'name': 'Path of the Berserker', 'slug': 'pa...  "
      ]
     },
     "execution_count": 31,
     "metadata": {},
     "output_type": "execute_result"
    }
   ],
   "source": [
    "DFclasses.head(1)"
   ]
  },
  {
   "cell_type": "markdown",
   "id": "02ba4bb8",
   "metadata": {},
   "source": [
    "### Rinse and Repeat\n",
    "We will load and clear out useless columns for the dataframes without modifying the original data. If in the process we find problematic data, we shall deal with it. After all of this, we will save the modified data with different names."
   ]
  },
  {
   "cell_type": "code",
   "execution_count": 32,
   "id": "e939c9e9",
   "metadata": {
    "ExecuteTime": {
     "end_time": "2024-06-13T11:23:29.127103Z",
     "start_time": "2024-06-13T11:23:29.083238Z"
    }
   },
   "outputs": [
    {
     "data": {
      "text/html": [
       "<div>\n",
       "<style scoped>\n",
       "    .dataframe tbody tr th:only-of-type {\n",
       "        vertical-align: middle;\n",
       "    }\n",
       "\n",
       "    .dataframe tbody tr th {\n",
       "        vertical-align: top;\n",
       "    }\n",
       "\n",
       "    .dataframe thead th {\n",
       "        text-align: right;\n",
       "    }\n",
       "</style>\n",
       "<table border=\"1\" class=\"dataframe\">\n",
       "  <thead>\n",
       "    <tr style=\"text-align: right;\">\n",
       "      <th></th>\n",
       "      <th>slug</th>\n",
       "      <th>name</th>\n",
       "      <th>desc</th>\n",
       "      <th>higher_level</th>\n",
       "      <th>page</th>\n",
       "      <th>range</th>\n",
       "      <th>target_range_sort</th>\n",
       "      <th>components</th>\n",
       "      <th>requires_verbal_components</th>\n",
       "      <th>requires_somatic_components</th>\n",
       "      <th>...</th>\n",
       "      <th>spell_level</th>\n",
       "      <th>school</th>\n",
       "      <th>dnd_class</th>\n",
       "      <th>spell_lists</th>\n",
       "      <th>archetype</th>\n",
       "      <th>circles</th>\n",
       "      <th>document__slug</th>\n",
       "      <th>document__title</th>\n",
       "      <th>document__license_url</th>\n",
       "      <th>document__url</th>\n",
       "    </tr>\n",
       "  </thead>\n",
       "  <tbody>\n",
       "    <tr>\n",
       "      <th>0</th>\n",
       "      <td>abhorrent-apparition</td>\n",
       "      <td>Abhorrent Apparition</td>\n",
       "      <td>You imbue a terrifying visage onto a gourd and...</td>\n",
       "      <td>If you cast this spell using a spell slot of 5...</td>\n",
       "      <td>NaN</td>\n",
       "      <td>60 feet</td>\n",
       "      <td>60</td>\n",
       "      <td>M</td>\n",
       "      <td>False</td>\n",
       "      <td>False</td>\n",
       "      <td>...</td>\n",
       "      <td>4</td>\n",
       "      <td>illusion</td>\n",
       "      <td>Bard, Sorcerer, Wizard</td>\n",
       "      <td>['bard', 'sorcerer', 'wizard']</td>\n",
       "      <td>NaN</td>\n",
       "      <td>NaN</td>\n",
       "      <td>dmag</td>\n",
       "      <td>Deep Magic 5e</td>\n",
       "      <td>http://open5e.com/legal</td>\n",
       "      <td>https://koboldpress.com/kpstore/product/deep-m...</td>\n",
       "    </tr>\n",
       "    <tr>\n",
       "      <th>1</th>\n",
       "      <td>abrupt-hug</td>\n",
       "      <td>Abrupt Hug</td>\n",
       "      <td>You or the creature taking the Attack action c...</td>\n",
       "      <td>NaN</td>\n",
       "      <td>NaN</td>\n",
       "      <td>30 Feet</td>\n",
       "      <td>30</td>\n",
       "      <td>V</td>\n",
       "      <td>True</td>\n",
       "      <td>False</td>\n",
       "      <td>...</td>\n",
       "      <td>1</td>\n",
       "      <td>transmutation</td>\n",
       "      <td>Ranger</td>\n",
       "      <td>['ranger']</td>\n",
       "      <td>NaN</td>\n",
       "      <td>NaN</td>\n",
       "      <td>warlock</td>\n",
       "      <td>Warlock Archives</td>\n",
       "      <td>http://open5e.com/legal</td>\n",
       "      <td>https://koboldpress.com/kpstore/product-catego...</td>\n",
       "    </tr>\n",
       "  </tbody>\n",
       "</table>\n",
       "<p>2 rows × 30 columns</p>\n",
       "</div>"
      ],
      "text/plain": [
       "                   slug                  name  \\\n",
       "0  abhorrent-apparition  Abhorrent Apparition   \n",
       "1            abrupt-hug            Abrupt Hug   \n",
       "\n",
       "                                                desc  \\\n",
       "0  You imbue a terrifying visage onto a gourd and...   \n",
       "1  You or the creature taking the Attack action c...   \n",
       "\n",
       "                                        higher_level page    range  \\\n",
       "0  If you cast this spell using a spell slot of 5...  NaN  60 feet   \n",
       "1                                                NaN  NaN  30 Feet   \n",
       "\n",
       "   target_range_sort components  requires_verbal_components  \\\n",
       "0                 60          M                       False   \n",
       "1                 30          V                        True   \n",
       "\n",
       "   requires_somatic_components  ...  spell_level         school  \\\n",
       "0                        False  ...            4       illusion   \n",
       "1                        False  ...            1  transmutation   \n",
       "\n",
       "                dnd_class                     spell_lists archetype circles  \\\n",
       "0  Bard, Sorcerer, Wizard  ['bard', 'sorcerer', 'wizard']       NaN     NaN   \n",
       "1                  Ranger                      ['ranger']       NaN     NaN   \n",
       "\n",
       "   document__slug   document__title    document__license_url  \\\n",
       "0            dmag     Deep Magic 5e  http://open5e.com/legal   \n",
       "1         warlock  Warlock Archives  http://open5e.com/legal   \n",
       "\n",
       "                                       document__url  \n",
       "0  https://koboldpress.com/kpstore/product/deep-m...  \n",
       "1  https://koboldpress.com/kpstore/product-catego...  \n",
       "\n",
       "[2 rows x 30 columns]"
      ]
     },
     "execution_count": 32,
     "metadata": {},
     "output_type": "execute_result"
    }
   ],
   "source": [
    "#Data from spells\n",
    "DFspells = pd.read_csv('data/spells.csv')\n",
    "DFspells.head(2)"
   ]
  },
  {
   "cell_type": "code",
   "execution_count": 35,
   "id": "c534abc5",
   "metadata": {
    "ExecuteTime": {
     "end_time": "2024-06-13T11:31:51.443019Z",
     "start_time": "2024-06-13T11:31:51.427817Z"
    }
   },
   "outputs": [],
   "source": [
    "DFspells.drop(['slug','document__slug','document__title', 'document__license_url', 'document__url'],axis=1,inplace=True)"
   ]
  },
  {
   "cell_type": "code",
   "execution_count": 36,
   "id": "940943bc",
   "metadata": {
    "ExecuteTime": {
     "end_time": "2024-06-13T11:32:02.931066Z",
     "start_time": "2024-06-13T11:32:02.909159Z"
    }
   },
   "outputs": [
    {
     "data": {
      "text/html": [
       "<div>\n",
       "<style scoped>\n",
       "    .dataframe tbody tr th:only-of-type {\n",
       "        vertical-align: middle;\n",
       "    }\n",
       "\n",
       "    .dataframe tbody tr th {\n",
       "        vertical-align: top;\n",
       "    }\n",
       "\n",
       "    .dataframe thead th {\n",
       "        text-align: right;\n",
       "    }\n",
       "</style>\n",
       "<table border=\"1\" class=\"dataframe\">\n",
       "  <thead>\n",
       "    <tr style=\"text-align: right;\">\n",
       "      <th></th>\n",
       "      <th>name</th>\n",
       "      <th>desc</th>\n",
       "      <th>higher_level</th>\n",
       "      <th>page</th>\n",
       "      <th>range</th>\n",
       "      <th>target_range_sort</th>\n",
       "      <th>components</th>\n",
       "      <th>requires_verbal_components</th>\n",
       "      <th>requires_somatic_components</th>\n",
       "      <th>requires_material_components</th>\n",
       "      <th>...</th>\n",
       "      <th>requires_concentration</th>\n",
       "      <th>casting_time</th>\n",
       "      <th>level</th>\n",
       "      <th>level_int</th>\n",
       "      <th>spell_level</th>\n",
       "      <th>school</th>\n",
       "      <th>dnd_class</th>\n",
       "      <th>spell_lists</th>\n",
       "      <th>archetype</th>\n",
       "      <th>circles</th>\n",
       "    </tr>\n",
       "  </thead>\n",
       "  <tbody>\n",
       "    <tr>\n",
       "      <th>0</th>\n",
       "      <td>Abhorrent Apparition</td>\n",
       "      <td>You imbue a terrifying visage onto a gourd and...</td>\n",
       "      <td>If you cast this spell using a spell slot of 5...</td>\n",
       "      <td>NaN</td>\n",
       "      <td>60 feet</td>\n",
       "      <td>60</td>\n",
       "      <td>M</td>\n",
       "      <td>False</td>\n",
       "      <td>False</td>\n",
       "      <td>True</td>\n",
       "      <td>...</td>\n",
       "      <td>False</td>\n",
       "      <td>1 action</td>\n",
       "      <td>4th-level</td>\n",
       "      <td>4</td>\n",
       "      <td>4</td>\n",
       "      <td>illusion</td>\n",
       "      <td>Bard, Sorcerer, Wizard</td>\n",
       "      <td>['bard', 'sorcerer', 'wizard']</td>\n",
       "      <td>NaN</td>\n",
       "      <td>NaN</td>\n",
       "    </tr>\n",
       "  </tbody>\n",
       "</table>\n",
       "<p>1 rows × 25 columns</p>\n",
       "</div>"
      ],
      "text/plain": [
       "                   name                                               desc  \\\n",
       "0  Abhorrent Apparition  You imbue a terrifying visage onto a gourd and...   \n",
       "\n",
       "                                        higher_level page    range  \\\n",
       "0  If you cast this spell using a spell slot of 5...  NaN  60 feet   \n",
       "\n",
       "   target_range_sort components  requires_verbal_components  \\\n",
       "0                 60          M                       False   \n",
       "\n",
       "   requires_somatic_components  requires_material_components  ...  \\\n",
       "0                        False                          True  ...   \n",
       "\n",
       "  requires_concentration  casting_time      level level_int spell_level  \\\n",
       "0                  False      1 action  4th-level         4           4   \n",
       "\n",
       "     school               dnd_class                     spell_lists  \\\n",
       "0  illusion  Bard, Sorcerer, Wizard  ['bard', 'sorcerer', 'wizard']   \n",
       "\n",
       "   archetype  circles  \n",
       "0        NaN      NaN  \n",
       "\n",
       "[1 rows x 25 columns]"
      ]
     },
     "execution_count": 36,
     "metadata": {},
     "output_type": "execute_result"
    }
   ],
   "source": [
    "DFspells.head(1)"
   ]
  },
  {
   "cell_type": "markdown",
   "id": "8c99625d",
   "metadata": {},
   "source": [
    "A pattern may have emerged, some columns have repeated so we will check if those columns appear in all of the dataframes, if so. We will create a loop to drop them all. "
   ]
  },
  {
   "cell_type": "code",
   "execution_count": 39,
   "id": "99d8d3f9",
   "metadata": {
    "ExecuteTime": {
     "end_time": "2024-06-13T11:41:39.678443Z",
     "start_time": "2024-06-13T11:41:39.523509Z"
    }
   },
   "outputs": [],
   "source": [
    "#Loading all remaning dataframes\n",
    "DFspelllist = pd.read_csv('data/spelllist.csv')\n",
    "DFmonsters = pd.read_csv('data/monsters.csv')\n",
    "DFdocuments = pd.read_csv('data/documents.csv')\n",
    "DFbackgrounds = pd.read_csv('data/backgrounds.csv')\n",
    "DFplanes = pd.read_csv('data/planes.csv')\n",
    "DFsections = pd.read_csv('data/sections.csv')\n",
    "DFfeats = pd.read_csv('data/feats.csv')\n",
    "DFconditions = pd.read_csv('data/conditions.csv')\n",
    "DFraces = pd.read_csv('data/races.csv')\n",
    "DFmagicitems = pd.read_csv('data/magicitems.csv')\n",
    "DFweapons = pd.read_csv('data/weapons.csv')\n",
    "DFarmor = pd.read_csv('data/armor.csv')"
   ]
  },
  {
   "cell_type": "code",
   "execution_count": 41,
   "id": "5f8b876b",
   "metadata": {
    "ExecuteTime": {
     "end_time": "2024-06-13T11:44:32.130338Z",
     "start_time": "2024-06-13T11:44:32.111062Z"
    }
   },
   "outputs": [
    {
     "name": "stdout",
     "output_type": "stream",
     "text": [
      "Index(['slug', 'name', 'desc', 'spells', 'document__slug', 'document__title',\n",
      "       'document__license_url', 'document__url'],\n",
      "      dtype='object')\n",
      "Index(['slug', 'desc', 'name', 'size', 'type', 'subtype', 'group', 'alignment',\n",
      "       'armor_class', 'armor_desc', 'hit_points', 'hit_dice', 'speed',\n",
      "       'strength', 'dexterity', 'constitution', 'intelligence', 'wisdom',\n",
      "       'charisma', 'strength_save', 'dexterity_save', 'constitution_save',\n",
      "       'intelligence_save', 'wisdom_save', 'charisma_save', 'perception',\n",
      "       'skills', 'damage_vulnerabilities', 'damage_resistances',\n",
      "       'damage_immunities', 'condition_immunities', 'senses', 'languages',\n",
      "       'challenge_rating', 'cr', 'actions', 'bonus_actions', 'reactions',\n",
      "       'legendary_desc', 'legendary_actions', 'special_abilities',\n",
      "       'spell_list', 'page_no', 'environments', 'img_main', 'document__slug',\n",
      "       'document__title', 'document__license_url', 'document__url'],\n",
      "      dtype='object')\n",
      "Index(['title', 'slug', 'url', 'license', 'desc', 'author', 'organization',\n",
      "       'version', 'created_at', 'copyright', 'license_url'],\n",
      "      dtype='object')\n",
      "Index(['name', 'desc', 'slug', 'skill_proficiencies', 'tool_proficiencies',\n",
      "       'languages', 'equipment', 'feature', 'feature_desc',\n",
      "       'suggested_characteristics', 'document__slug', 'document__title',\n",
      "       'document__license_url', 'document__url'],\n",
      "      dtype='object')\n",
      "Index(['slug', 'name', 'desc', 'document__slug', 'document__title',\n",
      "       'document__url', 'parent'],\n",
      "      dtype='object')\n",
      "Index(['slug', 'name', 'desc', 'document__slug', 'document__title',\n",
      "       'document__license_url', 'document__url', 'parent'],\n",
      "      dtype='object')\n",
      "Index(['slug', 'name', 'desc', 'prerequisite', 'effects_desc',\n",
      "       'document__slug', 'document__title', 'document__url'],\n",
      "      dtype='object')\n",
      "Index(['slug', 'name', 'desc', 'document__slug', 'document__title',\n",
      "       'document__url'],\n",
      "      dtype='object')\n",
      "Index(['name', 'slug', 'desc', 'asi_desc', 'asi', 'age', 'alignment', 'size',\n",
      "       'size_raw', 'speed', 'speed_desc', 'languages', 'vision', 'traits',\n",
      "       'subraces', 'document__slug', 'document__title',\n",
      "       'document__license_url', 'document__url'],\n",
      "      dtype='object')\n",
      "Index(['slug', 'name', 'type', 'desc', 'rarity', 'requires_attunement',\n",
      "       'document__slug', 'document__title', 'document__url'],\n",
      "      dtype='object')\n",
      "Index(['name', 'slug', 'category', 'document__slug', 'document__title',\n",
      "       'document__license_url', 'document__url', 'cost', 'damage_dice',\n",
      "       'damage_type', 'weight', 'properties'],\n",
      "      dtype='object')\n",
      "Index(['name', 'slug', 'category', 'document__slug', 'document__title',\n",
      "       'document__license_url', 'document__url', 'base_ac', 'plus_dex_mod',\n",
      "       'plus_con_mod', 'plus_wis_mod', 'plus_flat_mod', 'plus_max',\n",
      "       'ac_string', 'strength_requirement', 'cost', 'weight',\n",
      "       'stealth_disadvantage'],\n",
      "      dtype='object')\n"
     ]
    }
   ],
   "source": [
    "print(DFspelllist.columns)\n",
    "print(DFmonsters.columns)\n",
    "print(DFdocuments.columns)\n",
    "print(DFbackgrounds.columns)\n",
    "print(DFplanes.columns)\n",
    "print(DFsections.columns)\n",
    "print(DFfeats.columns)\n",
    "print(DFconditions.columns)\n",
    "print(DFraces.columns)\n",
    "print(DFmagicitems.columns)\n",
    "print(DFweapons.columns)\n",
    "print(DFarmor.columns)"
   ]
  },
  {
   "cell_type": "markdown",
   "id": "54f9d5b0",
   "metadata": {},
   "source": [
    "From the information above we can confirm our hypothesis and continue to delete those columns, we can also asume that the DFdocuments is going to be fairle useless for DMs so we will not cosider it in the future."
   ]
  },
  {
   "cell_type": "code",
   "execution_count": 45,
   "id": "9cd1d46b",
   "metadata": {
    "ExecuteTime": {
     "end_time": "2024-06-13T11:55:51.642050Z",
     "start_time": "2024-06-13T11:55:51.627787Z"
    }
   },
   "outputs": [],
   "source": [
    "# List of dataframes\n",
    "dfs = [DFarmor,DFbackgrounds,DFconditions,DFfeats,DFmagicitems,\n",
    "       DFmonsters,DFplanes,DFraces,DFsections,DFspelllist,DFweapons]\n",
    "\n",
    "# Common columns to delete\n",
    "common_columns = ['slug','document__slug','document__title', 'document__license_url', 'document__url']\n",
    "\n",
    "# Loop through each dataframe\n",
    "for df in dfs:\n",
    "    # Delete common columns from the dataframe\n",
    "    df.drop(columns=common_columns, axis=1, inplace=True, errors='ignore')\n"
   ]
  },
  {
   "cell_type": "code",
   "execution_count": 81,
   "id": "d3f5975d",
   "metadata": {
    "ExecuteTime": {
     "end_time": "2024-06-13T12:05:34.500827Z",
     "start_time": "2024-06-13T12:05:34.491633Z"
    }
   },
   "outputs": [
    {
     "data": {
      "text/plain": [
       "Index(['name', 'desc', 'parent'], dtype='object')"
      ]
     },
     "execution_count": 81,
     "metadata": {},
     "output_type": "execute_result"
    }
   ],
   "source": [
    "#Iterate through the dfs list to check that everything is all right.\n",
    "#But first we expand the list to contain all the dfs and sort it so its alphabetiaclly ordered\n",
    "dfs = [DFarmor,DFbackgrounds,DFclasses,DFconditions,DFfeats,DFmagicitems,\n",
    "       DFmonsters,DFplanes,DFraces,DFsections,DFspelllist,DFspells,DFweapons]\n",
    "dfs[-4].columns"
   ]
  },
  {
   "cell_type": "code",
   "execution_count": null,
   "id": "189d52d6",
   "metadata": {},
   "outputs": [],
   "source": []
  }
 ],
 "metadata": {
  "kernelspec": {
   "display_name": "Python 3",
   "language": "python",
   "name": "python3"
  },
  "language_info": {
   "codemirror_mode": {
    "name": "ipython",
    "version": 3
   },
   "file_extension": ".py",
   "mimetype": "text/x-python",
   "name": "python",
   "nbconvert_exporter": "python",
   "pygments_lexer": "ipython3",
   "version": "3.8.8"
  }
 },
 "nbformat": 4,
 "nbformat_minor": 5
}
